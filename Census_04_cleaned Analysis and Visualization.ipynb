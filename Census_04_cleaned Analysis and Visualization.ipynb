{
 "cells": [
  {
   "cell_type": "code",
   "execution_count": 1,
   "metadata": {},
   "outputs": [
    {
     "name": "stderr",
     "output_type": "stream",
     "text": [
      "WARNING: You are using pip version 21.1.2; however, version 21.3.1 is available.\n",
      "You should consider upgrading via the 'c:\\program files (x86)\\python39-32\\python.exe -m pip install --upgrade pip' command.\n"
     ]
    },
    {
     "name": "stdout",
     "output_type": "stream",
     "text": [
      "Defaulting to user installation because normal site-packages is not writeable\n",
      "Requirement already satisfied: seaborn in c:\\users\\674697\\appdata\\roaming\\python\\python39\\site-packages (0.11.2)\n",
      "Requirement already satisfied: matplotlib>=2.2 in c:\\program files (x86)\\python39-32\\lib\\site-packages (from seaborn) (3.4.2)\n",
      "Requirement already satisfied: scipy>=1.0 in c:\\program files (x86)\\python39-32\\lib\\site-packages (from seaborn) (1.6.3)\n",
      "Requirement already satisfied: pandas>=0.23 in c:\\program files (x86)\\python39-32\\lib\\site-packages (from seaborn) (1.3.2)\n",
      "Requirement already satisfied: numpy>=1.15 in c:\\program files (x86)\\python39-32\\lib\\site-packages (from seaborn) (1.20.3)\n",
      "Requirement already satisfied: pillow>=6.2.0 in c:\\program files (x86)\\python39-32\\lib\\site-packages (from matplotlib>=2.2->seaborn) (8.2.0)\n",
      "Requirement already satisfied: kiwisolver>=1.0.1 in c:\\program files (x86)\\python39-32\\lib\\site-packages (from matplotlib>=2.2->seaborn) (1.3.1)\n",
      "Requirement already satisfied: python-dateutil>=2.7 in c:\\program files (x86)\\python39-32\\lib\\site-packages (from matplotlib>=2.2->seaborn) (2.8.1)\n",
      "Requirement already satisfied: pyparsing>=2.2.1 in c:\\program files (x86)\\python39-32\\lib\\site-packages (from matplotlib>=2.2->seaborn) (2.4.7)\n",
      "Requirement already satisfied: cycler>=0.10 in c:\\program files (x86)\\python39-32\\lib\\site-packages (from matplotlib>=2.2->seaborn) (0.10.0)\n",
      "Requirement already satisfied: six in c:\\program files (x86)\\python39-32\\lib\\site-packages (from cycler>=0.10->matplotlib>=2.2->seaborn) (1.16.0)\n",
      "Requirement already satisfied: pytz>=2017.3 in c:\\program files (x86)\\python39-32\\lib\\site-packages (from pandas>=0.23->seaborn) (2021.1)\n"
     ]
    }
   ],
   "source": [
    "!pip install seaborn\n",
    "import numpy as np\n",
    "import pandas as pd\n",
    "import seaborn as sns\n",
    "import matplotlib.pyplot as plt\n",
    "\n",
    "%matplotlib inline"
   ]
  },
  {
   "cell_type": "code",
   "execution_count": 2,
   "metadata": {},
   "outputs": [],
   "source": [
    "df=pd.read_csv('census_04_cleaned.csv')"
   ]
  },
  {
   "cell_type": "code",
   "execution_count": 3,
   "metadata": {},
   "outputs": [
    {
     "data": {
      "text/html": [
       "<div>\n",
       "<style scoped>\n",
       "    .dataframe tbody tr th:only-of-type {\n",
       "        vertical-align: middle;\n",
       "    }\n",
       "\n",
       "    .dataframe tbody tr th {\n",
       "        vertical-align: top;\n",
       "    }\n",
       "\n",
       "    .dataframe thead th {\n",
       "        text-align: right;\n",
       "    }\n",
       "</style>\n",
       "<table border=\"1\" class=\"dataframe\">\n",
       "  <thead>\n",
       "    <tr style=\"text-align: right;\">\n",
       "      <th></th>\n",
       "      <th>Unnamed: 0</th>\n",
       "      <th>House Number</th>\n",
       "      <th>Street</th>\n",
       "      <th>First Name</th>\n",
       "      <th>Surname</th>\n",
       "      <th>Age</th>\n",
       "      <th>Relationship to Head of House</th>\n",
       "      <th>Marital Status</th>\n",
       "      <th>Gender</th>\n",
       "      <th>Occupation</th>\n",
       "      <th>Infirmity</th>\n",
       "      <th>Religion</th>\n",
       "    </tr>\n",
       "  </thead>\n",
       "  <tbody>\n",
       "    <tr>\n",
       "      <th>0</th>\n",
       "      <td>0</td>\n",
       "      <td>1</td>\n",
       "      <td>Prince Lane</td>\n",
       "      <td>Joel</td>\n",
       "      <td>Thompson</td>\n",
       "      <td>38</td>\n",
       "      <td>Head</td>\n",
       "      <td>Divorced</td>\n",
       "      <td>Male</td>\n",
       "      <td>Teacher, early years/pre</td>\n",
       "      <td>Healthy</td>\n",
       "      <td>Christian</td>\n",
       "    </tr>\n",
       "    <tr>\n",
       "      <th>1</th>\n",
       "      <td>1</td>\n",
       "      <td>1</td>\n",
       "      <td>Prince Lane</td>\n",
       "      <td>Alexandra</td>\n",
       "      <td>Smith</td>\n",
       "      <td>3</td>\n",
       "      <td>Niece</td>\n",
       "      <td>Single</td>\n",
       "      <td>Female</td>\n",
       "      <td>Child</td>\n",
       "      <td>Healthy</td>\n",
       "      <td>Undecided</td>\n",
       "    </tr>\n",
       "    <tr>\n",
       "      <th>2</th>\n",
       "      <td>2</td>\n",
       "      <td>2</td>\n",
       "      <td>Prince Lane</td>\n",
       "      <td>Rachel</td>\n",
       "      <td>Jenkins</td>\n",
       "      <td>40</td>\n",
       "      <td>Head</td>\n",
       "      <td>Single</td>\n",
       "      <td>Female</td>\n",
       "      <td>Radio broadcast assistant</td>\n",
       "      <td>Healthy</td>\n",
       "      <td>Catholic</td>\n",
       "    </tr>\n",
       "    <tr>\n",
       "      <th>3</th>\n",
       "      <td>3</td>\n",
       "      <td>2</td>\n",
       "      <td>Prince Lane</td>\n",
       "      <td>Malcolm</td>\n",
       "      <td>Jenkins</td>\n",
       "      <td>9</td>\n",
       "      <td>Son</td>\n",
       "      <td>Single</td>\n",
       "      <td>Male</td>\n",
       "      <td>Student</td>\n",
       "      <td>Healthy</td>\n",
       "      <td>Undecided</td>\n",
       "    </tr>\n",
       "    <tr>\n",
       "      <th>4</th>\n",
       "      <td>4</td>\n",
       "      <td>3</td>\n",
       "      <td>Prince Lane</td>\n",
       "      <td>Scott</td>\n",
       "      <td>Thompson</td>\n",
       "      <td>20</td>\n",
       "      <td>Head</td>\n",
       "      <td>Married</td>\n",
       "      <td>Male</td>\n",
       "      <td>University Student</td>\n",
       "      <td>Healthy</td>\n",
       "      <td>Christian</td>\n",
       "    </tr>\n",
       "    <tr>\n",
       "      <th>...</th>\n",
       "      <td>...</td>\n",
       "      <td>...</td>\n",
       "      <td>...</td>\n",
       "      <td>...</td>\n",
       "      <td>...</td>\n",
       "      <td>...</td>\n",
       "      <td>...</td>\n",
       "      <td>...</td>\n",
       "      <td>...</td>\n",
       "      <td>...</td>\n",
       "      <td>...</td>\n",
       "      <td>...</td>\n",
       "    </tr>\n",
       "    <tr>\n",
       "      <th>9092</th>\n",
       "      <td>9094</td>\n",
       "      <td>1</td>\n",
       "      <td>McCarthy Warehouse</td>\n",
       "      <td>Samuel</td>\n",
       "      <td>Burke</td>\n",
       "      <td>70</td>\n",
       "      <td>Husband</td>\n",
       "      <td>Married</td>\n",
       "      <td>Male</td>\n",
       "      <td>Retired Engineer, maintenance</td>\n",
       "      <td>Healthy</td>\n",
       "      <td>Catholic</td>\n",
       "    </tr>\n",
       "    <tr>\n",
       "      <th>9093</th>\n",
       "      <td>9095</td>\n",
       "      <td>1</td>\n",
       "      <td>McCarthy Warehouse</td>\n",
       "      <td>Ross</td>\n",
       "      <td>Burke</td>\n",
       "      <td>33</td>\n",
       "      <td>Adopted Son</td>\n",
       "      <td>Single</td>\n",
       "      <td>Male</td>\n",
       "      <td>Aeronautical engineer</td>\n",
       "      <td>Healthy</td>\n",
       "      <td>Catholic</td>\n",
       "    </tr>\n",
       "    <tr>\n",
       "      <th>9094</th>\n",
       "      <td>9096</td>\n",
       "      <td>1</td>\n",
       "      <td>McCarthy Warehouse</td>\n",
       "      <td>Wayne</td>\n",
       "      <td>Burke</td>\n",
       "      <td>33</td>\n",
       "      <td>Son</td>\n",
       "      <td>Single</td>\n",
       "      <td>Male</td>\n",
       "      <td>Social researcher</td>\n",
       "      <td>Healthy</td>\n",
       "      <td>Catholic</td>\n",
       "    </tr>\n",
       "    <tr>\n",
       "      <th>9095</th>\n",
       "      <td>9097</td>\n",
       "      <td>1</td>\n",
       "      <td>McCarthy Warehouse</td>\n",
       "      <td>Hollie</td>\n",
       "      <td>Burke</td>\n",
       "      <td>30</td>\n",
       "      <td>Daughter</td>\n",
       "      <td>Single</td>\n",
       "      <td>Female</td>\n",
       "      <td>Research officer, trade union</td>\n",
       "      <td>Healthy</td>\n",
       "      <td>Catholic</td>\n",
       "    </tr>\n",
       "    <tr>\n",
       "      <th>9096</th>\n",
       "      <td>9098</td>\n",
       "      <td>1</td>\n",
       "      <td>McCarthy Warehouse</td>\n",
       "      <td>Harriet</td>\n",
       "      <td>Burke</td>\n",
       "      <td>5</td>\n",
       "      <td>Daughter</td>\n",
       "      <td>Single</td>\n",
       "      <td>Female</td>\n",
       "      <td>Student</td>\n",
       "      <td>Healthy</td>\n",
       "      <td>Undecided</td>\n",
       "    </tr>\n",
       "  </tbody>\n",
       "</table>\n",
       "<p>9097 rows × 12 columns</p>\n",
       "</div>"
      ],
      "text/plain": [
       "      Unnamed: 0  House Number              Street First Name   Surname  Age  \\\n",
       "0              0             1         Prince Lane       Joel  Thompson   38   \n",
       "1              1             1         Prince Lane  Alexandra     Smith    3   \n",
       "2              2             2         Prince Lane     Rachel   Jenkins   40   \n",
       "3              3             2         Prince Lane    Malcolm   Jenkins    9   \n",
       "4              4             3         Prince Lane      Scott  Thompson   20   \n",
       "...          ...           ...                 ...        ...       ...  ...   \n",
       "9092        9094             1  McCarthy Warehouse     Samuel     Burke   70   \n",
       "9093        9095             1  McCarthy Warehouse       Ross     Burke   33   \n",
       "9094        9096             1  McCarthy Warehouse      Wayne     Burke   33   \n",
       "9095        9097             1  McCarthy Warehouse     Hollie     Burke   30   \n",
       "9096        9098             1  McCarthy Warehouse    Harriet     Burke    5   \n",
       "\n",
       "     Relationship to Head of House Marital Status  Gender  \\\n",
       "0                             Head       Divorced    Male   \n",
       "1                            Niece         Single  Female   \n",
       "2                             Head         Single  Female   \n",
       "3                              Son         Single    Male   \n",
       "4                             Head        Married    Male   \n",
       "...                            ...            ...     ...   \n",
       "9092                       Husband        Married    Male   \n",
       "9093                   Adopted Son         Single    Male   \n",
       "9094                           Son         Single    Male   \n",
       "9095                      Daughter         Single  Female   \n",
       "9096                      Daughter         Single  Female   \n",
       "\n",
       "                         Occupation Infirmity   Religion  \n",
       "0          Teacher, early years/pre   Healthy  Christian  \n",
       "1                             Child   Healthy  Undecided  \n",
       "2         Radio broadcast assistant   Healthy   Catholic  \n",
       "3                           Student   Healthy  Undecided  \n",
       "4                University Student   Healthy  Christian  \n",
       "...                             ...       ...        ...  \n",
       "9092  Retired Engineer, maintenance   Healthy   Catholic  \n",
       "9093          Aeronautical engineer   Healthy   Catholic  \n",
       "9094              Social researcher   Healthy   Catholic  \n",
       "9095  Research officer, trade union   Healthy   Catholic  \n",
       "9096                        Student   Healthy  Undecided  \n",
       "\n",
       "[9097 rows x 12 columns]"
      ]
     },
     "execution_count": 3,
     "metadata": {},
     "output_type": "execute_result"
    }
   ],
   "source": [
    "df"
   ]
  },
  {
   "cell_type": "code",
   "execution_count": 4,
   "metadata": {},
   "outputs": [
    {
     "data": {
      "text/html": [
       "<div>\n",
       "<style scoped>\n",
       "    .dataframe tbody tr th:only-of-type {\n",
       "        vertical-align: middle;\n",
       "    }\n",
       "\n",
       "    .dataframe tbody tr th {\n",
       "        vertical-align: top;\n",
       "    }\n",
       "\n",
       "    .dataframe thead th {\n",
       "        text-align: right;\n",
       "    }\n",
       "</style>\n",
       "<table border=\"1\" class=\"dataframe\">\n",
       "  <thead>\n",
       "    <tr style=\"text-align: right;\">\n",
       "      <th></th>\n",
       "      <th>Unnamed: 0</th>\n",
       "      <th>House Number</th>\n",
       "      <th>Age</th>\n",
       "    </tr>\n",
       "  </thead>\n",
       "  <tbody>\n",
       "    <tr>\n",
       "      <th>count</th>\n",
       "      <td>9097.000000</td>\n",
       "      <td>9097.000000</td>\n",
       "      <td>9097.000000</td>\n",
       "    </tr>\n",
       "    <tr>\n",
       "      <th>mean</th>\n",
       "      <td>4549.543806</td>\n",
       "      <td>41.063537</td>\n",
       "      <td>36.135979</td>\n",
       "    </tr>\n",
       "    <tr>\n",
       "      <th>std</th>\n",
       "      <td>2626.811101</td>\n",
       "      <td>47.966844</td>\n",
       "      <td>21.462959</td>\n",
       "    </tr>\n",
       "    <tr>\n",
       "      <th>min</th>\n",
       "      <td>0.000000</td>\n",
       "      <td>1.000000</td>\n",
       "      <td>1.000000</td>\n",
       "    </tr>\n",
       "    <tr>\n",
       "      <th>25%</th>\n",
       "      <td>2275.000000</td>\n",
       "      <td>9.000000</td>\n",
       "      <td>19.000000</td>\n",
       "    </tr>\n",
       "    <tr>\n",
       "      <th>50%</th>\n",
       "      <td>4550.000000</td>\n",
       "      <td>24.000000</td>\n",
       "      <td>35.000000</td>\n",
       "    </tr>\n",
       "    <tr>\n",
       "      <th>75%</th>\n",
       "      <td>6824.000000</td>\n",
       "      <td>48.000000</td>\n",
       "      <td>51.000000</td>\n",
       "    </tr>\n",
       "    <tr>\n",
       "      <th>max</th>\n",
       "      <td>9098.000000</td>\n",
       "      <td>234.000000</td>\n",
       "      <td>111.000000</td>\n",
       "    </tr>\n",
       "  </tbody>\n",
       "</table>\n",
       "</div>"
      ],
      "text/plain": [
       "        Unnamed: 0  House Number          Age\n",
       "count  9097.000000   9097.000000  9097.000000\n",
       "mean   4549.543806     41.063537    36.135979\n",
       "std    2626.811101     47.966844    21.462959\n",
       "min       0.000000      1.000000     1.000000\n",
       "25%    2275.000000      9.000000    19.000000\n",
       "50%    4550.000000     24.000000    35.000000\n",
       "75%    6824.000000     48.000000    51.000000\n",
       "max    9098.000000    234.000000   111.000000"
      ]
     },
     "execution_count": 4,
     "metadata": {},
     "output_type": "execute_result"
    }
   ],
   "source": [
    "df.describe()"
   ]
  },
  {
   "cell_type": "code",
   "execution_count": 5,
   "metadata": {},
   "outputs": [
    {
     "name": "stdout",
     "output_type": "stream",
     "text": [
      "<class 'pandas.core.frame.DataFrame'>\n",
      "RangeIndex: 9097 entries, 0 to 9096\n",
      "Data columns (total 12 columns):\n",
      " #   Column                         Non-Null Count  Dtype \n",
      "---  ------                         --------------  ----- \n",
      " 0   Unnamed: 0                     9097 non-null   int64 \n",
      " 1   House Number                   9097 non-null   int64 \n",
      " 2   Street                         9097 non-null   object\n",
      " 3   First Name                     9097 non-null   object\n",
      " 4   Surname                        9097 non-null   object\n",
      " 5   Age                            9097 non-null   int64 \n",
      " 6   Relationship to Head of House  9097 non-null   object\n",
      " 7   Marital Status                 9097 non-null   object\n",
      " 8   Gender                         9097 non-null   object\n",
      " 9   Occupation                     9097 non-null   object\n",
      " 10  Infirmity                      9097 non-null   object\n",
      " 11  Religion                       9097 non-null   object\n",
      "dtypes: int64(3), object(9)\n",
      "memory usage: 533.1+ KB\n"
     ]
    }
   ],
   "source": [
    "df.info()"
   ]
  },
  {
   "cell_type": "code",
   "execution_count": 6,
   "metadata": {},
   "outputs": [
    {
     "data": {
      "text/plain": [
       "Unnamed: 0                       0\n",
       "House Number                     0\n",
       "Street                           0\n",
       "First Name                       0\n",
       "Surname                          0\n",
       "Age                              0\n",
       "Relationship to Head of House    0\n",
       "Marital Status                   0\n",
       "Gender                           0\n",
       "Occupation                       0\n",
       "Infirmity                        0\n",
       "Religion                         0\n",
       "dtype: int64"
      ]
     },
     "execution_count": 6,
     "metadata": {},
     "output_type": "execute_result"
    }
   ],
   "source": [
    "df.isnull().sum()"
   ]
  },
  {
   "cell_type": "markdown",
   "metadata": {},
   "source": [
    "## Details of the cleaned dataset"
   ]
  },
  {
   "cell_type": "code",
   "execution_count": 7,
   "metadata": {},
   "outputs": [
    {
     "name": "stdout",
     "output_type": "stream",
     "text": [
      "Rows:  9097\n",
      "Columns:  12\n"
     ]
    }
   ],
   "source": [
    "No_of_rows = df.shape[0]\n",
    "No_of_columns = df.shape[1]\n",
    "print(\"Rows: \", No_of_rows)\n",
    "print(\"Columns: \", No_of_columns)"
   ]
  },
  {
   "cell_type": "code",
   "execution_count": 8,
   "metadata": {},
   "outputs": [
    {
     "data": {
      "text/plain": [
       "(9097, 12)"
      ]
     },
     "execution_count": 8,
     "metadata": {},
     "output_type": "execute_result"
    }
   ],
   "source": [
    "df.shape"
   ]
  },
  {
   "cell_type": "code",
   "execution_count": 9,
   "metadata": {},
   "outputs": [
    {
     "data": {
      "text/plain": [
       "Index(['Unnamed: 0', 'House Number', 'Street', 'First Name', 'Surname', 'Age',\n",
       "       'Relationship to Head of House', 'Marital Status', 'Gender',\n",
       "       'Occupation', 'Infirmity', 'Religion'],\n",
       "      dtype='object')"
      ]
     },
     "execution_count": 9,
     "metadata": {},
     "output_type": "execute_result"
    }
   ],
   "source": [
    "df.columns"
   ]
  },
  {
   "cell_type": "code",
   "execution_count": 10,
   "metadata": {},
   "outputs": [
    {
     "data": {
      "text/plain": [
       "RangeIndex(start=0, stop=9097, step=1)"
      ]
     },
     "execution_count": 10,
     "metadata": {},
     "output_type": "execute_result"
    }
   ],
   "source": [
    "df.index"
   ]
  },
  {
   "cell_type": "code",
   "execution_count": 11,
   "metadata": {},
   "outputs": [
    {
     "data": {
      "text/plain": [
       "109164"
      ]
     },
     "execution_count": 11,
     "metadata": {},
     "output_type": "execute_result"
    }
   ],
   "source": [
    "df.size"
   ]
  },
  {
   "cell_type": "code",
   "execution_count": 12,
   "metadata": {},
   "outputs": [
    {
     "data": {
      "text/plain": [
       "Unnamed: 0                        int64\n",
       "House Number                      int64\n",
       "Street                           object\n",
       "First Name                       object\n",
       "Surname                          object\n",
       "Age                               int64\n",
       "Relationship to Head of House    object\n",
       "Marital Status                   object\n",
       "Gender                           object\n",
       "Occupation                       object\n",
       "Infirmity                        object\n",
       "Religion                         object\n",
       "dtype: object"
      ]
     },
     "execution_count": 12,
     "metadata": {},
     "output_type": "execute_result"
    }
   ],
   "source": [
    "df.dtypes"
   ]
  },
  {
   "cell_type": "code",
   "execution_count": 13,
   "metadata": {},
   "outputs": [
    {
     "data": {
      "text/plain": [
       "Index(['Unnamed: 0', 'House Number', 'Street', 'First Name', 'Surname', 'Age',\n",
       "       'Relationship to Head of House', 'Marital Status', 'Gender',\n",
       "       'Occupation', 'Infirmity', 'Religion'],\n",
       "      dtype='object')"
      ]
     },
     "execution_count": 13,
     "metadata": {},
     "output_type": "execute_result"
    }
   ],
   "source": [
    "df.columns"
   ]
  },
  {
   "cell_type": "code",
   "execution_count": 14,
   "metadata": {},
   "outputs": [],
   "source": [
    "df.drop('Unnamed: 0', axis=1, inplace=True)"
   ]
  },
  {
   "cell_type": "code",
   "execution_count": 15,
   "metadata": {},
   "outputs": [
    {
     "data": {
      "text/plain": [
       "Index(['House Number', 'Street', 'First Name', 'Surname', 'Age',\n",
       "       'Relationship to Head of House', 'Marital Status', 'Gender',\n",
       "       'Occupation', 'Infirmity', 'Religion'],\n",
       "      dtype='object')"
      ]
     },
     "execution_count": 15,
     "metadata": {},
     "output_type": "execute_result"
    }
   ],
   "source": [
    "df.columns"
   ]
  },
  {
   "cell_type": "code",
   "execution_count": 16,
   "metadata": {},
   "outputs": [],
   "source": [
    "df_House_Number=df['House Number'].unique\n",
    "df_Street=df['Street'].unique\n",
    "df_First_Name=df['First Name'].unique\n",
    "df_Surname=df['Surname'].unique\n",
    "df_Age=df['Age'].unique\n",
    "df_Relationship_to_Head_of_House=df['Relationship to Head of House'].unique\n",
    "df_Marital_Status=df['Marital Status'].unique\n",
    "df_Gender=df['Gender'].unique\n",
    "df_Occupation=df['Occupation'].unique\n",
    "df_Infirmity=df['Infirmity'].unique\n",
    "df_Religion=df['Religion'].unique"
   ]
  },
  {
   "cell_type": "code",
   "execution_count": 17,
   "metadata": {},
   "outputs": [
    {
     "data": {
      "text/plain": [
       "array([  1,   2,   3,   4,   5,   6,   7,   8,   9,  10,  11,  12,  13,\n",
       "        14,  15,  16,  17,  18,  19,  20,  21,  22,  23,  24,  25,  26,\n",
       "        27,  28,  29,  30,  31,  32,  33,  34,  35,  36,  37,  38,  39,\n",
       "        40,  41,  42,  43,  44,  45,  46,  47,  48,  49,  50,  51,  52,\n",
       "        53,  54,  55,  56,  57,  58,  59,  60,  61,  62,  63,  64,  65,\n",
       "        66,  67,  68,  69,  70,  71,  72,  73,  74,  75,  76,  77,  78,\n",
       "        79,  80,  81,  82,  83,  84,  85,  86,  87,  88,  89,  90,  91,\n",
       "        92,  93,  94,  95,  96,  97,  98,  99, 100, 101, 102, 103, 104,\n",
       "       105, 106, 107, 108, 109, 110, 111, 112, 113, 114, 115, 116, 117,\n",
       "       118, 119, 120, 121, 122, 123, 124, 125, 126, 127, 128, 129, 130,\n",
       "       131, 132, 133, 134, 135, 136, 137, 138, 139, 140, 141, 142, 143,\n",
       "       144, 145, 146, 147, 148, 149, 150, 151, 152, 153, 154, 155, 156,\n",
       "       157, 158, 159, 160, 161, 162, 163, 164, 165, 166, 167, 168, 169,\n",
       "       170, 171, 172, 173, 174, 175, 176, 177, 178, 179, 180, 181, 182,\n",
       "       183, 184, 185, 186, 187, 188, 189, 190, 191, 192, 193, 194, 195,\n",
       "       196, 197, 198, 199, 200, 201, 202, 203, 204, 205, 206, 207, 208,\n",
       "       209, 210, 211, 212, 213, 214, 215, 216, 217, 218, 219, 220, 221,\n",
       "       222, 223, 224, 225, 226, 227, 228, 229, 230, 231, 232, 233, 234],\n",
       "      dtype=int64)"
      ]
     },
     "execution_count": 17,
     "metadata": {},
     "output_type": "execute_result"
    }
   ],
   "source": [
    "df_House_Number()"
   ]
  },
  {
   "cell_type": "code",
   "execution_count": 18,
   "metadata": {},
   "outputs": [
    {
     "data": {
      "text/plain": [
       "array([ 38,   3,  40,   9,  20,  36,  37,  15,  12,  53,  57,  32,  82,\n",
       "        87,  47,  48,  74,  67,   8,   4,   5,  65,  54,  59,  21,  30,\n",
       "        89,  71,  25,  27,  29,  78,  80,  70,  55,  31,  50,  60,  84,\n",
       "        41,  64,  33,   1,  51,  26,  35,  61,  19,  22,  34,  43,  45,\n",
       "        58,  44,  42,  52,  46,   2,  69,  77,  83,  88,  62,  16,  13,\n",
       "        66,  75,  68,  28,  92,  93,  73,  85,  72,  49,  76,  79,  81,\n",
       "        18,  14,  10,   6,  17,  24,  11,  63,  39,  23,   7,  56,  91,\n",
       "        99,  86, 103, 102, 104, 100, 108,  94,  96,  95,  90,  98, 101,\n",
       "       105,  97, 111], dtype=int64)"
      ]
     },
     "execution_count": 18,
     "metadata": {},
     "output_type": "execute_result"
    }
   ],
   "source": [
    "df_Age()"
   ]
  },
  {
   "cell_type": "code",
   "execution_count": 19,
   "metadata": {},
   "outputs": [
    {
     "data": {
      "text/plain": [
       "House Number                     0\n",
       "Street                           0\n",
       "First Name                       0\n",
       "Surname                          0\n",
       "Age                              0\n",
       "Relationship to Head of House    0\n",
       "Marital Status                   0\n",
       "Gender                           0\n",
       "Occupation                       0\n",
       "Infirmity                        0\n",
       "Religion                         0\n",
       "dtype: int64"
      ]
     },
     "execution_count": 19,
     "metadata": {},
     "output_type": "execute_result"
    }
   ],
   "source": [
    "df.isnull().sum()"
   ]
  },
  {
   "cell_type": "markdown",
   "metadata": {},
   "source": [
    "## VISUALIZATION OF THE CLEANED DATASET"
   ]
  },
  {
   "cell_type": "markdown",
   "metadata": {},
   "source": [
    "### Frequency tables"
   ]
  },
  {
   "cell_type": "code",
   "execution_count": 20,
   "metadata": {},
   "outputs": [
    {
     "data": {
      "text/html": [
       "<div>\n",
       "<style scoped>\n",
       "    .dataframe tbody tr th:only-of-type {\n",
       "        vertical-align: middle;\n",
       "    }\n",
       "\n",
       "    .dataframe tbody tr th {\n",
       "        vertical-align: top;\n",
       "    }\n",
       "\n",
       "    .dataframe thead th {\n",
       "        text-align: right;\n",
       "    }\n",
       "</style>\n",
       "<table border=\"1\" class=\"dataframe\">\n",
       "  <thead>\n",
       "    <tr style=\"text-align: right;\">\n",
       "      <th></th>\n",
       "      <th>Marital Status (count)</th>\n",
       "      <th>Marital Status (freq %)</th>\n",
       "    </tr>\n",
       "  </thead>\n",
       "  <tbody>\n",
       "    <tr>\n",
       "      <th>Single</th>\n",
       "      <td>5462</td>\n",
       "      <td>60.041772</td>\n",
       "    </tr>\n",
       "    <tr>\n",
       "      <th>Married</th>\n",
       "      <td>2430</td>\n",
       "      <td>26.712103</td>\n",
       "    </tr>\n",
       "    <tr>\n",
       "      <th>Divorced</th>\n",
       "      <td>840</td>\n",
       "      <td>9.233813</td>\n",
       "    </tr>\n",
       "    <tr>\n",
       "      <th>Widowed</th>\n",
       "      <td>365</td>\n",
       "      <td>4.012312</td>\n",
       "    </tr>\n",
       "  </tbody>\n",
       "</table>\n",
       "</div>"
      ],
      "text/plain": [
       "          Marital Status (count)  Marital Status (freq %)\n",
       "Single                      5462                60.041772\n",
       "Married                     2430                26.712103\n",
       "Divorced                     840                 9.233813\n",
       "Widowed                      365                 4.012312"
      ]
     },
     "execution_count": 20,
     "metadata": {},
     "output_type": "execute_result"
    }
   ],
   "source": [
    "table1 = df[\"Marital Status\"].value_counts()\n",
    "table2 = (df[\"Marital Status\"].value_counts()/df.shape[0])*100\n",
    " \n",
    "pd.DataFrame(table1).join(pd.DataFrame(table2), how=\"left\", lsuffix=\" (count)\", rsuffix=\" (freq %)\")"
   ]
  },
  {
   "cell_type": "code",
   "execution_count": 21,
   "metadata": {},
   "outputs": [
    {
     "data": {
      "text/html": [
       "<div>\n",
       "<style scoped>\n",
       "    .dataframe tbody tr th:only-of-type {\n",
       "        vertical-align: middle;\n",
       "    }\n",
       "\n",
       "    .dataframe tbody tr th {\n",
       "        vertical-align: top;\n",
       "    }\n",
       "\n",
       "    .dataframe thead th {\n",
       "        text-align: right;\n",
       "    }\n",
       "</style>\n",
       "<table border=\"1\" class=\"dataframe\">\n",
       "  <thead>\n",
       "    <tr style=\"text-align: right;\">\n",
       "      <th></th>\n",
       "      <th>Religion (count)</th>\n",
       "      <th>Religion (freq %)</th>\n",
       "    </tr>\n",
       "  </thead>\n",
       "  <tbody>\n",
       "    <tr>\n",
       "      <th>Undecided</th>\n",
       "      <td>5226</td>\n",
       "      <td>57.447510</td>\n",
       "    </tr>\n",
       "    <tr>\n",
       "      <th>Christian</th>\n",
       "      <td>2030</td>\n",
       "      <td>22.315049</td>\n",
       "    </tr>\n",
       "    <tr>\n",
       "      <th>Catholic</th>\n",
       "      <td>970</td>\n",
       "      <td>10.662856</td>\n",
       "    </tr>\n",
       "    <tr>\n",
       "      <th>Methodist</th>\n",
       "      <td>644</td>\n",
       "      <td>7.079257</td>\n",
       "    </tr>\n",
       "    <tr>\n",
       "      <th>Muslim</th>\n",
       "      <td>116</td>\n",
       "      <td>1.275146</td>\n",
       "    </tr>\n",
       "    <tr>\n",
       "      <th>Sikh</th>\n",
       "      <td>58</td>\n",
       "      <td>0.637573</td>\n",
       "    </tr>\n",
       "    <tr>\n",
       "      <th>Jewish</th>\n",
       "      <td>41</td>\n",
       "      <td>0.450698</td>\n",
       "    </tr>\n",
       "    <tr>\n",
       "      <th>Unknown</th>\n",
       "      <td>6</td>\n",
       "      <td>0.065956</td>\n",
       "    </tr>\n",
       "    <tr>\n",
       "      <th>Bahai</th>\n",
       "      <td>2</td>\n",
       "      <td>0.021985</td>\n",
       "    </tr>\n",
       "    <tr>\n",
       "      <th>Hindu</th>\n",
       "      <td>1</td>\n",
       "      <td>0.010993</td>\n",
       "    </tr>\n",
       "    <tr>\n",
       "      <th>Baptist</th>\n",
       "      <td>1</td>\n",
       "      <td>0.010993</td>\n",
       "    </tr>\n",
       "    <tr>\n",
       "      <th>Orthodoxy</th>\n",
       "      <td>1</td>\n",
       "      <td>0.010993</td>\n",
       "    </tr>\n",
       "    <tr>\n",
       "      <th>Quaker</th>\n",
       "      <td>1</td>\n",
       "      <td>0.010993</td>\n",
       "    </tr>\n",
       "  </tbody>\n",
       "</table>\n",
       "</div>"
      ],
      "text/plain": [
       "           Religion (count)  Religion (freq %)\n",
       "Undecided              5226          57.447510\n",
       "Christian              2030          22.315049\n",
       "Catholic                970          10.662856\n",
       "Methodist               644           7.079257\n",
       "Muslim                  116           1.275146\n",
       "Sikh                     58           0.637573\n",
       "Jewish                   41           0.450698\n",
       "Unknown                   6           0.065956\n",
       "Bahai                     2           0.021985\n",
       "Hindu                     1           0.010993\n",
       "Baptist                   1           0.010993\n",
       "Orthodoxy                 1           0.010993\n",
       "Quaker                    1           0.010993"
      ]
     },
     "execution_count": 21,
     "metadata": {},
     "output_type": "execute_result"
    }
   ],
   "source": [
    "table1 = df[\"Religion\"].value_counts()\n",
    "table2 = (df[\"Religion\"].value_counts()/df.shape[0])*100\n",
    " \n",
    "pd.DataFrame(table1).join(pd.DataFrame(table2), how=\"left\", lsuffix=\" (count)\", rsuffix=\" (freq %)\")"
   ]
  },
  {
   "cell_type": "code",
   "execution_count": 22,
   "metadata": {},
   "outputs": [
    {
     "data": {
      "text/html": [
       "<div>\n",
       "<style scoped>\n",
       "    .dataframe tbody tr th:only-of-type {\n",
       "        vertical-align: middle;\n",
       "    }\n",
       "\n",
       "    .dataframe tbody tr th {\n",
       "        vertical-align: top;\n",
       "    }\n",
       "\n",
       "    .dataframe thead th {\n",
       "        text-align: right;\n",
       "    }\n",
       "</style>\n",
       "<table border=\"1\" class=\"dataframe\">\n",
       "  <thead>\n",
       "    <tr style=\"text-align: right;\">\n",
       "      <th></th>\n",
       "      <th>Relationship to Head of House (count)</th>\n",
       "      <th>Relationship to Head of House (freq %)</th>\n",
       "    </tr>\n",
       "  </thead>\n",
       "  <tbody>\n",
       "    <tr>\n",
       "      <th>Head</th>\n",
       "      <td>3872</td>\n",
       "      <td>42.563482</td>\n",
       "    </tr>\n",
       "    <tr>\n",
       "      <th>Son</th>\n",
       "      <td>1496</td>\n",
       "      <td>16.444982</td>\n",
       "    </tr>\n",
       "    <tr>\n",
       "      <th>Daughter</th>\n",
       "      <td>1478</td>\n",
       "      <td>16.247114</td>\n",
       "    </tr>\n",
       "    <tr>\n",
       "      <th>Husband</th>\n",
       "      <td>897</td>\n",
       "      <td>9.860394</td>\n",
       "    </tr>\n",
       "    <tr>\n",
       "      <th>Lodger</th>\n",
       "      <td>364</td>\n",
       "      <td>4.001319</td>\n",
       "    </tr>\n",
       "    <tr>\n",
       "      <th>Wife</th>\n",
       "      <td>312</td>\n",
       "      <td>3.429702</td>\n",
       "    </tr>\n",
       "    <tr>\n",
       "      <th>Partner</th>\n",
       "      <td>273</td>\n",
       "      <td>3.000989</td>\n",
       "    </tr>\n",
       "    <tr>\n",
       "      <th>Grandson</th>\n",
       "      <td>100</td>\n",
       "      <td>1.099263</td>\n",
       "    </tr>\n",
       "    <tr>\n",
       "      <th>Granddaughter</th>\n",
       "      <td>74</td>\n",
       "      <td>0.813455</td>\n",
       "    </tr>\n",
       "    <tr>\n",
       "      <th>Cousin</th>\n",
       "      <td>62</td>\n",
       "      <td>0.681543</td>\n",
       "    </tr>\n",
       "    <tr>\n",
       "      <th>Sibling</th>\n",
       "      <td>36</td>\n",
       "      <td>0.395735</td>\n",
       "    </tr>\n",
       "    <tr>\n",
       "      <th>Step-Daughter</th>\n",
       "      <td>23</td>\n",
       "      <td>0.252831</td>\n",
       "    </tr>\n",
       "    <tr>\n",
       "      <th>Visitor</th>\n",
       "      <td>23</td>\n",
       "      <td>0.252831</td>\n",
       "    </tr>\n",
       "    <tr>\n",
       "      <th>Adopted Daughter</th>\n",
       "      <td>23</td>\n",
       "      <td>0.252831</td>\n",
       "    </tr>\n",
       "    <tr>\n",
       "      <th>Step-Son</th>\n",
       "      <td>20</td>\n",
       "      <td>0.219853</td>\n",
       "    </tr>\n",
       "    <tr>\n",
       "      <th>Adopted Son</th>\n",
       "      <td>15</td>\n",
       "      <td>0.164890</td>\n",
       "    </tr>\n",
       "    <tr>\n",
       "      <th>Niece</th>\n",
       "      <td>13</td>\n",
       "      <td>0.142904</td>\n",
       "    </tr>\n",
       "    <tr>\n",
       "      <th>Nephew</th>\n",
       "      <td>10</td>\n",
       "      <td>0.109926</td>\n",
       "    </tr>\n",
       "    <tr>\n",
       "      <th>Wife</th>\n",
       "      <td>2</td>\n",
       "      <td>0.021985</td>\n",
       "    </tr>\n",
       "    <tr>\n",
       "      <th>Adopted Grandson</th>\n",
       "      <td>2</td>\n",
       "      <td>0.021985</td>\n",
       "    </tr>\n",
       "    <tr>\n",
       "      <th>Child</th>\n",
       "      <td>1</td>\n",
       "      <td>0.010993</td>\n",
       "    </tr>\n",
       "    <tr>\n",
       "      <th>Son-in-law</th>\n",
       "      <td>1</td>\n",
       "      <td>0.010993</td>\n",
       "    </tr>\n",
       "  </tbody>\n",
       "</table>\n",
       "</div>"
      ],
      "text/plain": [
       "                  Relationship to Head of House (count)  \\\n",
       "Head                                               3872   \n",
       "Son                                                1496   \n",
       "Daughter                                           1478   \n",
       "Husband                                             897   \n",
       "Lodger                                              364   \n",
       "Wife                                                312   \n",
       "Partner                                             273   \n",
       "Grandson                                            100   \n",
       "Granddaughter                                        74   \n",
       "Cousin                                               62   \n",
       "Sibling                                              36   \n",
       "Step-Daughter                                        23   \n",
       "Visitor                                              23   \n",
       "Adopted Daughter                                     23   \n",
       "Step-Son                                             20   \n",
       "Adopted Son                                          15   \n",
       "Niece                                                13   \n",
       "Nephew                                               10   \n",
       " Wife                                                 2   \n",
       "Adopted Grandson                                      2   \n",
       "Child                                                 1   \n",
       "Son-in-law                                            1   \n",
       "\n",
       "                  Relationship to Head of House (freq %)  \n",
       "Head                                           42.563482  \n",
       "Son                                            16.444982  \n",
       "Daughter                                       16.247114  \n",
       "Husband                                         9.860394  \n",
       "Lodger                                          4.001319  \n",
       "Wife                                            3.429702  \n",
       "Partner                                         3.000989  \n",
       "Grandson                                        1.099263  \n",
       "Granddaughter                                   0.813455  \n",
       "Cousin                                          0.681543  \n",
       "Sibling                                         0.395735  \n",
       "Step-Daughter                                   0.252831  \n",
       "Visitor                                         0.252831  \n",
       "Adopted Daughter                                0.252831  \n",
       "Step-Son                                        0.219853  \n",
       "Adopted Son                                     0.164890  \n",
       "Niece                                           0.142904  \n",
       "Nephew                                          0.109926  \n",
       " Wife                                           0.021985  \n",
       "Adopted Grandson                                0.021985  \n",
       "Child                                           0.010993  \n",
       "Son-in-law                                      0.010993  "
      ]
     },
     "execution_count": 22,
     "metadata": {},
     "output_type": "execute_result"
    }
   ],
   "source": [
    "table1 = df[\"Relationship to Head of House\"].value_counts()\n",
    "table2 = (df[\"Relationship to Head of House\"].value_counts()/df.shape[0])*100\n",
    " \n",
    "pd.DataFrame(table1).join(pd.DataFrame(table2), how=\"left\", lsuffix=\" (count)\", rsuffix=\" (freq %)\")"
   ]
  },
  {
   "cell_type": "code",
   "execution_count": 23,
   "metadata": {},
   "outputs": [
    {
     "data": {
      "text/html": [
       "<div>\n",
       "<style scoped>\n",
       "    .dataframe tbody tr th:only-of-type {\n",
       "        vertical-align: middle;\n",
       "    }\n",
       "\n",
       "    .dataframe tbody tr th {\n",
       "        vertical-align: top;\n",
       "    }\n",
       "\n",
       "    .dataframe thead th {\n",
       "        text-align: right;\n",
       "    }\n",
       "</style>\n",
       "<table border=\"1\" class=\"dataframe\">\n",
       "  <thead>\n",
       "    <tr style=\"text-align: right;\">\n",
       "      <th></th>\n",
       "      <th>Gender (count)</th>\n",
       "      <th>Gender (freq %)</th>\n",
       "    </tr>\n",
       "  </thead>\n",
       "  <tbody>\n",
       "    <tr>\n",
       "      <th>Female</th>\n",
       "      <td>4799</td>\n",
       "      <td>52.753655</td>\n",
       "    </tr>\n",
       "    <tr>\n",
       "      <th>Male</th>\n",
       "      <td>4298</td>\n",
       "      <td>47.246345</td>\n",
       "    </tr>\n",
       "  </tbody>\n",
       "</table>\n",
       "</div>"
      ],
      "text/plain": [
       "        Gender (count)  Gender (freq %)\n",
       "Female            4799        52.753655\n",
       "Male              4298        47.246345"
      ]
     },
     "execution_count": 23,
     "metadata": {},
     "output_type": "execute_result"
    }
   ],
   "source": [
    "table1 = df[\"Gender\"].value_counts()\n",
    "table2 = (df[\"Gender\"].value_counts()/df.shape[0])*100\n",
    " \n",
    "pd.DataFrame(table1).join(pd.DataFrame(table2), how=\"left\", lsuffix=\" (count)\", rsuffix=\" (freq %)\")"
   ]
  },
  {
   "cell_type": "code",
   "execution_count": 24,
   "metadata": {},
   "outputs": [
    {
     "data": {
      "text/html": [
       "<div>\n",
       "<style scoped>\n",
       "    .dataframe tbody tr th:only-of-type {\n",
       "        vertical-align: middle;\n",
       "    }\n",
       "\n",
       "    .dataframe tbody tr th {\n",
       "        vertical-align: top;\n",
       "    }\n",
       "\n",
       "    .dataframe thead th {\n",
       "        text-align: right;\n",
       "    }\n",
       "</style>\n",
       "<table border=\"1\" class=\"dataframe\">\n",
       "  <thead>\n",
       "    <tr style=\"text-align: right;\">\n",
       "      <th></th>\n",
       "      <th>Infirmity (count)</th>\n",
       "      <th>Infirmity (freq %)</th>\n",
       "    </tr>\n",
       "  </thead>\n",
       "  <tbody>\n",
       "    <tr>\n",
       "      <th>Healthy</th>\n",
       "      <td>9046</td>\n",
       "      <td>99.439376</td>\n",
       "    </tr>\n",
       "    <tr>\n",
       "      <th>Physical Disability</th>\n",
       "      <td>14</td>\n",
       "      <td>0.153897</td>\n",
       "    </tr>\n",
       "    <tr>\n",
       "      <th>Unknown Infection</th>\n",
       "      <td>10</td>\n",
       "      <td>0.109926</td>\n",
       "    </tr>\n",
       "    <tr>\n",
       "      <th>Mental Disability</th>\n",
       "      <td>9</td>\n",
       "      <td>0.098934</td>\n",
       "    </tr>\n",
       "    <tr>\n",
       "      <th>Deaf</th>\n",
       "      <td>7</td>\n",
       "      <td>0.076948</td>\n",
       "    </tr>\n",
       "    <tr>\n",
       "      <th>Disabled</th>\n",
       "      <td>6</td>\n",
       "      <td>0.065956</td>\n",
       "    </tr>\n",
       "    <tr>\n",
       "      <th>Blind</th>\n",
       "      <td>5</td>\n",
       "      <td>0.054963</td>\n",
       "    </tr>\n",
       "  </tbody>\n",
       "</table>\n",
       "</div>"
      ],
      "text/plain": [
       "                     Infirmity (count)  Infirmity (freq %)\n",
       "Healthy                           9046           99.439376\n",
       "Physical Disability                 14            0.153897\n",
       "Unknown Infection                   10            0.109926\n",
       "Mental Disability                    9            0.098934\n",
       "Deaf                                 7            0.076948\n",
       "Disabled                             6            0.065956\n",
       "Blind                                5            0.054963"
      ]
     },
     "execution_count": 24,
     "metadata": {},
     "output_type": "execute_result"
    }
   ],
   "source": [
    "table1 = df[\"Infirmity\"].value_counts()\n",
    "table2 = (df[\"Infirmity\"].value_counts()/df.shape[0])*100\n",
    " \n",
    "pd.DataFrame(table1).join(pd.DataFrame(table2), how=\"left\", lsuffix=\" (count)\", rsuffix=\" (freq %)\")"
   ]
  },
  {
   "cell_type": "code",
   "execution_count": 25,
   "metadata": {},
   "outputs": [
    {
     "data": {
      "text/html": [
       "<div>\n",
       "<style scoped>\n",
       "    .dataframe tbody tr th:only-of-type {\n",
       "        vertical-align: middle;\n",
       "    }\n",
       "\n",
       "    .dataframe tbody tr th {\n",
       "        vertical-align: top;\n",
       "    }\n",
       "\n",
       "    .dataframe thead th {\n",
       "        text-align: right;\n",
       "    }\n",
       "</style>\n",
       "<table border=\"1\" class=\"dataframe\">\n",
       "  <thead>\n",
       "    <tr style=\"text-align: right;\">\n",
       "      <th></th>\n",
       "      <th>Occupation (count)</th>\n",
       "      <th>Occupation (freq %)</th>\n",
       "    </tr>\n",
       "  </thead>\n",
       "  <tbody>\n",
       "    <tr>\n",
       "      <th>Student</th>\n",
       "      <td>1755</td>\n",
       "      <td>19.292074</td>\n",
       "    </tr>\n",
       "    <tr>\n",
       "      <th>University Student</th>\n",
       "      <td>613</td>\n",
       "      <td>6.738485</td>\n",
       "    </tr>\n",
       "    <tr>\n",
       "      <th>Unemployed</th>\n",
       "      <td>568</td>\n",
       "      <td>6.243817</td>\n",
       "    </tr>\n",
       "    <tr>\n",
       "      <th>Child</th>\n",
       "      <td>464</td>\n",
       "      <td>5.100583</td>\n",
       "    </tr>\n",
       "    <tr>\n",
       "      <th>PhD Student</th>\n",
       "      <td>27</td>\n",
       "      <td>0.296801</td>\n",
       "    </tr>\n",
       "    <tr>\n",
       "      <th>...</th>\n",
       "      <td>...</td>\n",
       "      <td>...</td>\n",
       "    </tr>\n",
       "    <tr>\n",
       "      <th>Retired Land</th>\n",
       "      <td>1</td>\n",
       "      <td>0.010993</td>\n",
       "    </tr>\n",
       "    <tr>\n",
       "      <th>Retired Warehouse manager</th>\n",
       "      <td>1</td>\n",
       "      <td>0.010993</td>\n",
       "    </tr>\n",
       "    <tr>\n",
       "      <th>Retired Architectural technologist</th>\n",
       "      <td>1</td>\n",
       "      <td>0.010993</td>\n",
       "    </tr>\n",
       "    <tr>\n",
       "      <th>Retired Financial manager</th>\n",
       "      <td>1</td>\n",
       "      <td>0.010993</td>\n",
       "    </tr>\n",
       "    <tr>\n",
       "      <th>Retired Lecturer, further education</th>\n",
       "      <td>1</td>\n",
       "      <td>0.010993</td>\n",
       "    </tr>\n",
       "  </tbody>\n",
       "</table>\n",
       "<p>1096 rows × 2 columns</p>\n",
       "</div>"
      ],
      "text/plain": [
       "                                     Occupation (count)  Occupation (freq %)\n",
       "Student                                            1755            19.292074\n",
       "University Student                                  613             6.738485\n",
       "Unemployed                                          568             6.243817\n",
       "Child                                               464             5.100583\n",
       "PhD Student                                          27             0.296801\n",
       "...                                                 ...                  ...\n",
       "Retired Land                                          1             0.010993\n",
       "Retired Warehouse manager                             1             0.010993\n",
       "Retired Architectural technologist                    1             0.010993\n",
       "Retired Financial manager                             1             0.010993\n",
       "Retired Lecturer, further education                   1             0.010993\n",
       "\n",
       "[1096 rows x 2 columns]"
      ]
     },
     "execution_count": 25,
     "metadata": {},
     "output_type": "execute_result"
    }
   ],
   "source": [
    "table1 = df[\"Occupation\"].value_counts()\n",
    "table2 = (df[\"Occupation\"].value_counts()/df.shape[0])*100\n",
    " \n",
    "pd.DataFrame(table1).join(pd.DataFrame(table2), how=\"left\", lsuffix=\" (count)\", rsuffix=\" (freq %)\")"
   ]
  },
  {
   "cell_type": "markdown",
   "metadata": {},
   "source": [
    "# Analysis and Visualization of the cleaned dataset"
   ]
  },
  {
   "cell_type": "markdown",
   "metadata": {},
   "source": [
    "### AGE AND GENDER"
   ]
  },
  {
   "cell_type": "code",
   "execution_count": 26,
   "metadata": {},
   "outputs": [
    {
     "data": {
      "text/plain": [
       "array([ 38,   3,  40,   9,  20,  36,  37,  15,  12,  53,  57,  32,  82,\n",
       "        87,  47,  48,  74,  67,   8,   4,   5,  65,  54,  59,  21,  30,\n",
       "        89,  71,  25,  27,  29,  78,  80,  70,  55,  31,  50,  60,  84,\n",
       "        41,  64,  33,   1,  51,  26,  35,  61,  19,  22,  34,  43,  45,\n",
       "        58,  44,  42,  52,  46,   2,  69,  77,  83,  88,  62,  16,  13,\n",
       "        66,  75,  68,  28,  92,  93,  73,  85,  72,  49,  76,  79,  81,\n",
       "        18,  14,  10,   6,  17,  24,  11,  63,  39,  23,   7,  56,  91,\n",
       "        99,  86, 103, 102, 104, 100, 108,  94,  96,  95,  90,  98, 101,\n",
       "       105,  97, 111], dtype=int64)"
      ]
     },
     "execution_count": 26,
     "metadata": {},
     "output_type": "execute_result"
    }
   ],
   "source": [
    "df.Age.unique()"
   ]
  },
  {
   "cell_type": "code",
   "execution_count": 27,
   "metadata": {},
   "outputs": [
    {
     "data": {
      "image/png": "[encoded data removed]",
      "text/plain": [
       "<Figure size 432x288 with 1 Axes>"
      ]
     },
     "metadata": {
      "needs_background": "light"
     },
     "output_type": "display_data"
    }
   ],
   "source": [
    "df.Age.plot(kind='hist')\n",
    "\n",
    "plt.show()"
   ]
  },
  {
   "cell_type": "code",
   "execution_count": 28,
   "metadata": {},
   "outputs": [
    {
     "data": {
      "image/png": "[encoded data removed]",
      "text/plain": [
       "<Figure size 432x288 with 1 Axes>"
      ]
     },
     "metadata": {
      "needs_background": "light"
     },
     "output_type": "display_data"
    }
   ],
   "source": [
    "sns.boxplot(x=df[\"Age\"],y=df[\"Gender\"],orient=\"h\",data=df)\n",
    "plt.show()"
   ]
  },
  {
   "cell_type": "code",
   "execution_count": 29,
   "metadata": {},
   "outputs": [
    {
     "name": "stdout",
     "output_type": "stream",
     "text": [
      "111  years\n"
     ]
    }
   ],
   "source": [
    "# the oldest person in the population is male,as we can see , the initial outlier in age of 120 has been removed\n",
    "print(df.Age.max(), \" years\")"
   ]
  },
  {
   "cell_type": "code",
   "execution_count": 30,
   "metadata": {},
   "outputs": [
    {
     "name": "stdout",
     "output_type": "stream",
     "text": [
      "1  years\n"
     ]
    }
   ],
   "source": [
    "# the youngest is 1 year old, recall the age 0 that was assumed a least age of 1 as age cannot be zero\n",
    "print(df.Age.min(), \" years\")"
   ]
  },
  {
   "cell_type": "markdown",
   "metadata": {},
   "source": [
    "### Marital Status\n",
    "Recall that empty cells and wrong marital status 'Head' that were cleaned are no longer visible."
   ]
  },
  {
   "cell_type": "code",
   "execution_count": 31,
   "metadata": {},
   "outputs": [
    {
     "data": {
      "image/png": "[encoded data removed]",
      "text/plain": [
       "<Figure size 720x360 with 1 Axes>"
      ]
     },
     "metadata": {
      "needs_background": "light"
     },
     "output_type": "display_data"
    }
   ],
   "source": [
    "df.groupby('Marital Status')[\"Marital Status\"].count().plot(kind=\"bar\", figsize=(10,5), legend=True)\n",
    "plt.grid()\n",
    "plt.show()"
   ]
  },
  {
   "cell_type": "code",
   "execution_count": 32,
   "metadata": {},
   "outputs": [
    {
     "data": {
      "text/plain": [
       "<Figure size 720x360 with 0 Axes>"
      ]
     },
     "metadata": {},
     "output_type": "display_data"
    },
    {
     "data": {
      "image/png": "[encoded data removed]",
      "text/plain": [
       "<Figure size 437.375x360 with 1 Axes>"
      ]
     },
     "metadata": {},
     "output_type": "display_data"
    }
   ],
   "source": [
    "plt.figure(figsize=(10,5))\n",
    "sns.set_style(\"whitegrid\")\n",
    "sns.FacetGrid(df, hue=\"Marital Status\", height=5) \\\n",
    "    .map(plt.scatter, \"Age\", \"Marital Status\") \\\n",
    "    .add_legend();\n",
    "\n",
    "plt.show()"
   ]
  },
  {
   "cell_type": "code",
   "execution_count": 33,
   "metadata": {},
   "outputs": [
    {
     "data": {
      "image/png": "[encoded data removed]",
      "text/plain": [
       "<Figure size 432x288 with 1 Axes>"
      ]
     },
     "metadata": {},
     "output_type": "display_data"
    }
   ],
   "source": [
    "sns.boxplot(x=df[\"Age\"],y=df[\"Marital Status\"],orient=\"h\",data=df)\n",
    "plt.show()"
   ]
  },
  {
   "cell_type": "markdown",
   "metadata": {},
   "source": [
    "### Infirmity\n",
    "From the graph and grouping below, an insignificant portion of the population have infirmity."
   ]
  },
  {
   "cell_type": "code",
   "execution_count": 34,
   "metadata": {},
   "outputs": [
    {
     "data": {
      "text/plain": [
       "array(['Healthy', 'Disabled', 'Deaf', 'Physical Disability',\n",
       "       'Mental Disability', 'Blind', 'Unknown Infection'], dtype=object)"
      ]
     },
     "execution_count": 34,
     "metadata": {},
     "output_type": "execute_result"
    }
   ],
   "source": [
    "df[\"Infirmity\"].unique()"
   ]
  },
  {
   "cell_type": "code",
   "execution_count": 35,
   "metadata": {},
   "outputs": [
    {
     "data": {
      "image/png": "[encoded data removed]",
      "text/plain": [
       "<Figure size 720x360 with 1 Axes>"
      ]
     },
     "metadata": {},
     "output_type": "display_data"
    }
   ],
   "source": [
    "infirm_grp = df.groupby(\"Infirmity\")[\"Infirmity\"].count()\n",
    "infirm_grp.plot(kind='bar', figsize=(10,5))\n",
    "plt.grid()\n",
    "plt.show()"
   ]
  },
  {
   "cell_type": "code",
   "execution_count": 36,
   "metadata": {},
   "outputs": [
    {
     "data": {
      "text/plain": [
       "Infirmity\n",
       "Blind                     5\n",
       "Deaf                      7\n",
       "Disabled                  6\n",
       "Healthy                9046\n",
       "Mental Disability         9\n",
       "Physical Disability      14\n",
       "Unknown Infection        10\n",
       "Name: Infirmity, dtype: int64"
      ]
     },
     "execution_count": 36,
     "metadata": {},
     "output_type": "execute_result"
    }
   ],
   "source": [
    "infirm_grp"
   ]
  },
  {
   "cell_type": "code",
   "execution_count": 37,
   "metadata": {},
   "outputs": [],
   "source": [
    "num_male = len(df[df[\"Gender\"] == \"Male\"])\n",
    "num_female = len(df[df[\"Gender\"] == \"Female\"])"
   ]
  },
  {
   "cell_type": "code",
   "execution_count": 38,
   "metadata": {},
   "outputs": [
    {
     "name": "stdout",
     "output_type": "stream",
     "text": [
      "Males:4298\n",
      "Females:4799\n"
     ]
    }
   ],
   "source": [
    "print(f\"Males:{num_male}\\nFemales:{num_female}\")"
   ]
  },
  {
   "cell_type": "code",
   "execution_count": 39,
   "metadata": {},
   "outputs": [
    {
     "data": {
      "image/png": "[encoded data removed]",
      "text/plain": [
       "<Figure size 720x360 with 1 Axes>"
      ]
     },
     "metadata": {},
     "output_type": "display_data"
    }
   ],
   "source": [
    "plt.figure(figsize=(10,5))\n",
    "plt.title(\"Infirmity based on Gender\")\n",
    "sns.countplot(x=df.Gender, hue=df.Infirmity, data=df, )\n",
    "sns.despine(top=True, right=True)\n",
    "\n",
    "# show values / data values on the bars\n",
    "import math\n",
    "# Set plotting style\n",
    "sns.set_style('dark')\n",
    "\n",
    "# Rounding the integer to the next hundredth value plus an offset of 100\n",
    "def roundup(x):\n",
    "    return 100 + int(math.ceil(x / 100.0)) * 100 \n",
    "\n",
    "# Get current axis on current figure\n",
    "ax = plt.gca()\n",
    "\n",
    "# ylim max value to be set\n",
    "y_max = df['Gender'].value_counts().max() \n",
    "ax.set_ylim([0, roundup(y_max)])\n",
    "\n",
    "# Iterate through the list of axes' patches\n",
    "for p in ax.patches:\n",
    "    ax.text(p.get_x() + p.get_width()/2., p.get_height(), '%d' % int(p.get_height()), \n",
    "            fontsize=12, color='blue', ha='center', va='bottom')\n",
    "\n",
    "plt.show()"
   ]
  },
  {
   "cell_type": "code",
   "execution_count": 40,
   "metadata": {},
   "outputs": [
    {
     "data": {
      "text/plain": [
       "<AxesSubplot:xlabel='Age', ylabel='Infirmity'>"
      ]
     },
     "execution_count": 40,
     "metadata": {},
     "output_type": "execute_result"
    },
    {
     "data": {
      "image/png": "[encoded data removed]",
      "text/plain": [
       "<Figure size 432x288 with 1 Axes>"
      ]
     },
     "metadata": {},
     "output_type": "display_data"
    }
   ],
   "source": [
    "sns.boxplot(x=df[\"Age\"], y=df[\"Infirmity\"], orient=\"h\", data=df)"
   ]
  },
  {
   "cell_type": "code",
   "execution_count": 41,
   "metadata": {},
   "outputs": [
    {
     "data": {
      "text/plain": [
       "<Figure size 720x360 with 0 Axes>"
      ]
     },
     "metadata": {},
     "output_type": "display_data"
    },
    {
     "data": {
      "image/png": "[encoded data removed]",
      "text/plain": [
       "<Figure size 478.625x360 with 1 Axes>"
      ]
     },
     "metadata": {},
     "output_type": "display_data"
    }
   ],
   "source": [
    "plt.figure(figsize=(10,5))\n",
    "sns.set_style(\"whitegrid\")\n",
    "sns.FacetGrid(df, hue=\"Infirmity\", height=5) \\\n",
    "    .map(plt.scatter, \"Age\", \"Infirmity\") \\\n",
    "    .add_legend();\n",
    "\n",
    "plt.show()"
   ]
  },
  {
   "cell_type": "markdown",
   "metadata": {},
   "source": [
    "### Occupation"
   ]
  },
  {
   "cell_type": "code",
   "execution_count": 42,
   "metadata": {},
   "outputs": [
    {
     "name": "stdout",
     "output_type": "stream",
     "text": [
      "['Teacher, early years/pre' 'Child' 'Radio broadcast assistant' ...\n",
      " 'Retired Counselling psychologist' 'Retired Designer, textile'\n",
      " 'Retired Lecturer, further education']\n"
     ]
    }
   ],
   "source": [
    "print(df.Occupation.unique())"
   ]
  },
  {
   "cell_type": "code",
   "execution_count": 43,
   "metadata": {},
   "outputs": [
    {
     "name": "stdout",
     "output_type": "stream",
     "text": [
      "Unemployed:  568\n"
     ]
    }
   ],
   "source": [
    "unemployed = df[df[\"Occupation\"] == \"Unemployed\"]\n",
    "num_unemployed = len(unemployed)\n",
    "\n",
    "print(\"Unemployed: \",num_unemployed)"
   ]
  },
  {
   "cell_type": "code",
   "execution_count": 44,
   "metadata": {},
   "outputs": [
    {
     "name": "stdout",
     "output_type": "stream",
     "text": [
      "Students:  1755\n"
     ]
    }
   ],
   "source": [
    "students = df[df[\"Occupation\"] == \"Student\"]\n",
    "num_students = len(students)\n",
    "\n",
    "print(\"Students: \",num_students)"
   ]
  },
  {
   "cell_type": "code",
   "execution_count": 45,
   "metadata": {},
   "outputs": [
    {
     "name": "stdout",
     "output_type": "stream",
     "text": [
      "Children:  464\n"
     ]
    }
   ],
   "source": [
    "children = df[df[\"Occupation\"] == \"Child\"]\n",
    "num_children = len(children)\n",
    "\n",
    "print(\"Children: \",num_children)"
   ]
  },
  {
   "cell_type": "code",
   "execution_count": 46,
   "metadata": {},
   "outputs": [
    {
     "data": {
      "text/plain": [
       "Occupation\n",
       "Academic librarian                  16\n",
       "Accommodation manager                6\n",
       "Accountant, chartered                9\n",
       "Accountant, chartered certified      4\n",
       "Accountant, chartered management     8\n",
       "                                    ..\n",
       "Web designer                         8\n",
       "Wellsite geologist                  12\n",
       "Writer                              10\n",
       "Youth worker                         7\n",
       "student                              1\n",
       "Name: Occupation, Length: 1096, dtype: int64"
      ]
     },
     "execution_count": 46,
     "metadata": {},
     "output_type": "execute_result"
    }
   ],
   "source": [
    "# result shows we have over 1000 different occupations \n",
    "df.groupby([\"Occupation\"])[\"Occupation\"].count()"
   ]
  },
  {
   "cell_type": "code",
   "execution_count": 47,
   "metadata": {},
   "outputs": [],
   "source": [
    "# assuming that the unemployed, children and students can be categorised as unemployed "
   ]
  },
  {
   "cell_type": "code",
   "execution_count": 48,
   "metadata": {},
   "outputs": [],
   "source": [
    "import pprint \n",
    "pp = pprint.PrettyPrinter(depth=4)\n",
    "grp1 = df.groupby([\"Occupation\"])[\"Occupation\"].count()"
   ]
  },
  {
   "cell_type": "code",
   "execution_count": 49,
   "metadata": {},
   "outputs": [
    {
     "data": {
      "text/plain": [
       "Occupation\n",
       "Academic librarian                  16\n",
       "Accommodation manager                6\n",
       "Accountant, chartered                9\n",
       "Accountant, chartered certified      4\n",
       "Accountant, chartered management     8\n",
       "                                    ..\n",
       "Web designer                         8\n",
       "Wellsite geologist                  12\n",
       "Writer                              10\n",
       "Youth worker                         7\n",
       "student                              1\n",
       "Name: Occupation, Length: 1096, dtype: int64"
      ]
     },
     "execution_count": 49,
     "metadata": {},
     "output_type": "execute_result"
    }
   ],
   "source": [
    "grp1 "
   ]
  },
  {
   "cell_type": "markdown",
   "metadata": {},
   "source": [
    "## Religion\n",
    "\n",
    "We can see we have a complete list of valid religions, the invalid religion named Jedi has been cleaned."
   ]
  },
  {
   "cell_type": "code",
   "execution_count": 50,
   "metadata": {},
   "outputs": [
    {
     "data": {
      "text/plain": [
       "<Figure size 720x360 with 0 Axes>"
      ]
     },
     "metadata": {},
     "output_type": "display_data"
    },
    {
     "data": {
      "image/png": "[encoded data removed]",
      "text/plain": [
       "<Figure size 443.875x360 with 1 Axes>"
      ]
     },
     "metadata": {},
     "output_type": "display_data"
    }
   ],
   "source": [
    "plt.figure(figsize=(10,5))\n",
    "sns.set_style(\"whitegrid\")\n",
    "sns.FacetGrid(df, hue=\"Religion\", height=5) \\\n",
    "    .map(plt.scatter, \"Age\", \"Religion\") \\\n",
    "    .add_legend();\n",
    "\n",
    "plt.show()"
   ]
  },
  {
   "cell_type": "code",
   "execution_count": 51,
   "metadata": {},
   "outputs": [
    {
     "data": {
      "image/png": "[encoded data removed]",
      "text/plain": [
       "<Figure size 720x360 with 1 Axes>"
      ]
     },
     "metadata": {},
     "output_type": "display_data"
    }
   ],
   "source": [
    "df.groupby('Religion')[\"Religion\"].count().plot(kind=\"bar\", figsize=(10,5), legend=True)\n",
    "\n",
    "# show values / data values on the bars\n",
    "import math\n",
    "# Set plotting style\n",
    "sns.set_style('dark')\n",
    "\n",
    "# Rounding the integer to the next hundredth value plus an offset of 100\n",
    "def roundup(x):\n",
    "    return 100 + int(math.ceil(x / 100.0)) * 100 \n",
    "\n",
    "# Get current axis on current figure\n",
    "ax = plt.gca()\n",
    "\n",
    "# ylim max value to be set\n",
    "y_max = df['Gender'].value_counts().max() \n",
    "ax.set_ylim([0, roundup(y_max)])\n",
    "\n",
    "# Iterate through the list of axes' patches\n",
    "for p in ax.patches:\n",
    "    ax.text(p.get_x() + p.get_width()/2., p.get_height(), '%d' % int(p.get_height()), \n",
    "            fontsize=12, color='blue', ha='center', va='bottom')\n",
    "\n",
    "plt.show()"
   ]
  },
  {
   "cell_type": "markdown",
   "metadata": {},
   "source": [
    "## Relationship to Head of House"
   ]
  },
  {
   "cell_type": "code",
   "execution_count": 52,
   "metadata": {},
   "outputs": [
    {
     "data": {
      "text/plain": [
       "<AxesSubplot:xlabel='Age', ylabel='Relationship to Head of House'>"
      ]
     },
     "execution_count": 52,
     "metadata": {},
     "output_type": "execute_result"
    },
    {
     "data": {
      "image/png": "[encoded data removed]",
      "text/plain": [
       "<Figure size 864x432 with 1 Axes>"
      ]
     },
     "metadata": {},
     "output_type": "display_data"
    }
   ],
   "source": [
    "plt.figure(figsize=(12,6))\n",
    "sns.boxplot(x=df[\"Age\"], y=df[\"Relationship to Head of House\"], orient=\"h\", data=df)"
   ]
  },
  {
   "cell_type": "code",
   "execution_count": 53,
   "metadata": {},
   "outputs": [
    {
     "data": {
      "text/plain": [
       "<Figure size 720x360 with 0 Axes>"
      ]
     },
     "metadata": {},
     "output_type": "display_data"
    },
    {
     "data": {
      "image/png": "[encoded data removed]",
      "text/plain": [
       "<Figure size 504.125x360 with 1 Axes>"
      ]
     },
     "metadata": {},
     "output_type": "display_data"
    }
   ],
   "source": [
    "plt.figure(figsize=(10,5))\n",
    "sns.set_style(\"whitegrid\")\n",
    "sns.FacetGrid(df, hue=\"Relationship to Head of House\", height=5) \\\n",
    "    .map(plt.scatter, \"Age\", \"Relationship to Head of House\") \\\n",
    "    .add_legend();\n",
    "\n",
    "plt.show()"
   ]
  },
  {
   "cell_type": "markdown",
   "metadata": {},
   "source": [
    "### Age pyramid\n",
    "\n"
   ]
  },
  {
   "cell_type": "code",
   "execution_count": 54,
   "metadata": {},
   "outputs": [
    {
     "data": {
      "text/plain": [
       "array([ 38,   3,  40,   9,  20,  36,  37,  15,  12,  53,  57,  32,  82,\n",
       "        87,  47,  48,  74,  67,   8,   4,   5,  65,  54,  59,  21,  30,\n",
       "        89,  71,  25,  27,  29,  78,  80,  70,  55,  31,  50,  60,  84,\n",
       "        41,  64,  33,   1,  51,  26,  35,  61,  19,  22,  34,  43,  45,\n",
       "        58,  44,  42,  52,  46,   2,  69,  77,  83,  88,  62,  16,  13,\n",
       "        66,  75,  68,  28,  92,  93,  73,  85,  72,  49,  76,  79,  81,\n",
       "        18,  14,  10,   6,  17,  24,  11,  63,  39,  23,   7,  56,  91,\n",
       "        99,  86, 103, 102, 104, 100, 108,  94,  96,  95,  90,  98, 101,\n",
       "       105,  97, 111], dtype=int64)"
      ]
     },
     "execution_count": 54,
     "metadata": {},
     "output_type": "execute_result"
    }
   ],
   "source": [
    "df['Age'].unique()"
   ]
  },
  {
   "cell_type": "code",
   "execution_count": 55,
   "metadata": {},
   "outputs": [
    {
     "data": {
      "text/plain": [
       "array(['Male', 'Female'], dtype=object)"
      ]
     },
     "execution_count": 55,
     "metadata": {},
     "output_type": "execute_result"
    }
   ],
   "source": [
    "df['Gender'].unique()"
   ]
  },
  {
   "cell_type": "code",
   "execution_count": 56,
   "metadata": {},
   "outputs": [],
   "source": [
    "# Apply the categories to males population\n",
    "cat = [start for start in range(0, df.Age.max(), 5)]\n",
    "males = pd.cut(df.Age[df.Gender=='Male'], cat).value_counts(sort=False) * -1\n",
    "\n",
    "# Apply the categories to females population \n",
    "females = pd.cut(df.Age[df.Gender=='Female'], cat).value_counts(sort=False) \n",
    "\n",
    "males.sort_index(ascending=False, inplace=True)\n",
    "females.sort_index(ascending=False, inplace=True)"
   ]
  },
  {
   "cell_type": "code",
   "execution_count": 57,
   "metadata": {},
   "outputs": [],
   "source": [
    "males.index = males.index.astype(str)\n",
    "females.index = females.index.astype(str)"
   ]
  },
  {
   "cell_type": "code",
   "execution_count": 58,
   "metadata": {},
   "outputs": [
    {
     "data": {
      "text/plain": [
       "[Text(0.5, 0, '<--- Males   |   Population   |   Females --->'),\n",
       " Text(0, 0.5, 'Age-Group'),\n",
       " Text(0.5, 1.0, 'Population Pyramid')]"
      ]
     },
     "execution_count": 58,
     "metadata": {},
     "output_type": "execute_result"
    },
    {
     "data": {
      "image/png": "[encoded data removed]",
      "text/plain": [
       "<Figure size 864x576 with 1 Axes>"
      ]
     },
     "metadata": {},
     "output_type": "display_data"
    }
   ],
   "source": [
    "plt.figure(figsize=(12, 8))\n",
    "bar_plot = sns.barplot(data=males.reset_index(), x='Age', y='index', lw=0)\n",
    "bar_plot = sns.barplot(data=females.reset_index(), x='Age', y='index', lw=0)\n",
    "bar_plot.set(xlabel=\"<--- Males   |   Population   |   Females --->\", ylabel=\"Age-Group\", title = \"Population Pyramid\")"
   ]
  },
  {
   "cell_type": "code",
   "execution_count": 59,
   "metadata": {},
   "outputs": [
    {
     "data": {
      "image/png": "[encoded data removed]",
      "text/plain": [
       "<Figure size 432x288 with 1 Axes>"
      ]
     },
     "metadata": {},
     "output_type": "display_data"
    }
   ],
   "source": [
    "sns.boxplot(x=df.Age, y=df['Marital Status'])\n",
    "plt.show()"
   ]
  },
  {
   "cell_type": "markdown",
   "metadata": {},
   "source": [
    "## Determining population of commuters\n",
    "\n",
    "Train station? quite a significant number of employed, however there is a need to regroup the available data into categories that will resonably reveal the main commuters in the population. "
   ]
  },
  {
   "cell_type": "code",
   "execution_count": 60,
   "metadata": {},
   "outputs": [],
   "source": [
    "# Replace all teacher-related occupations with Teacher for the purpose of narrowing down the occupation into neater categories\n",
    "df_commuters = df\n",
    "df_commuters.loc[df_commuters.Occupation.str.lower().str.contains('teacher'), 'Occupation'] = 'Teacher'"
   ]
  },
  {
   "cell_type": "code",
   "execution_count": 61,
   "metadata": {},
   "outputs": [
    {
     "data": {
      "text/plain": [
       "['Teacher',\n",
       " 'Child',\n",
       " 'Radio broadcast assistant',\n",
       " 'Student',\n",
       " 'University Student',\n",
       " 'Information systems manager',\n",
       " 'Administrator, sports',\n",
       " 'Forensic scientist',\n",
       " 'Unemployed',\n",
       " 'Engineer, production',\n",
       " 'Retired Museum/gallery exhibitions officer',\n",
       " 'Retired Paramedic',\n",
       " 'Dispensing optician',\n",
       " 'Paramedic',\n",
       " 'Retired Merchandiser, retail',\n",
       " 'Interpreter',\n",
       " 'Automotive engineer',\n",
       " 'Catering manager',\n",
       " 'Charity fundraiser',\n",
       " 'Aid worker',\n",
       " 'Customer service manager',\n",
       " 'Retired Commissioning editor',\n",
       " 'Retired Structural engineer',\n",
       " 'Banker',\n",
       " 'Contractor',\n",
       " 'Waste management officer',\n",
       " 'Retired Fashion designer',\n",
       " 'Retired Medical sales representative',\n",
       " 'Retired Comptroller',\n",
       " 'Translator',\n",
       " 'Herpetologist',\n",
       " 'Journalist, broadcasting',\n",
       " 'Designer, multimedia',\n",
       " 'Video editor',\n",
       " 'Retired Engineer, broadcasting (operations)',\n",
       " 'Field trials officer',\n",
       " 'Higher education careers adviser',\n",
       " 'Programme researcher, broadcasting/film/video',\n",
       " 'Forest/woodland manager',\n",
       " 'Market researcher',\n",
       " 'Trading standards officer',\n",
       " 'Production assistant, television',\n",
       " 'Retired Architect',\n",
       " 'Designer, blown glass/stained glass',\n",
       " 'Engineer, land',\n",
       " 'Holiday representative',\n",
       " 'Retired Programmer, systems',\n",
       " 'Retired Quality manager',\n",
       " 'Copywriter, advertising',\n",
       " 'Medical illustrator',\n",
       " 'Engineer, manufacturing',\n",
       " 'Chartered public finance accountant',\n",
       " 'Administrator, local government',\n",
       " 'Archaeologist',\n",
       " 'Retired Engineer, civil (consulting)',\n",
       " 'Pension scheme manager',\n",
       " 'Ecologist',\n",
       " 'Paediatric nurse',\n",
       " 'Music therapist',\n",
       " 'Probation officer',\n",
       " 'Field seismologist',\n",
       " 'Theme park manager',\n",
       " 'Cytogeneticist',\n",
       " 'Meteorologist',\n",
       " 'Retired Chartered accountant',\n",
       " 'Actuary',\n",
       " 'Analytical chemist',\n",
       " 'Information officer',\n",
       " 'Structural engineer',\n",
       " 'Visual merchandiser',\n",
       " 'Theatre stage manager',\n",
       " 'Podiatrist',\n",
       " 'Camera operator',\n",
       " 'Insurance account manager',\n",
       " 'Engineer, energy',\n",
       " 'Designer, fashion/clothing',\n",
       " 'Transport planner',\n",
       " 'Product/process development scientist',\n",
       " 'Quantity surveyor',\n",
       " 'Social worker',\n",
       " 'Education officer, museum',\n",
       " 'Journalist, newspaper',\n",
       " 'Solicitor, Scotland',\n",
       " 'Museum education officer',\n",
       " 'Journalist, magazine',\n",
       " 'Restaurant manager',\n",
       " 'Designer, interior/spatial',\n",
       " 'Wellsite geologist',\n",
       " 'Retired Therapeutic radiographer',\n",
       " 'Merchandiser, retail',\n",
       " 'Chief Strategy Officer',\n",
       " 'Airline pilot',\n",
       " 'Oncologist',\n",
       " 'Mining engineer',\n",
       " 'Pharmacist, hospital',\n",
       " 'Retired Insurance underwriter',\n",
       " 'Retired Engineer, electrical',\n",
       " 'Retired Engineer, control and instrumentation',\n",
       " \"Politician's assistant\",\n",
       " 'Museum/gallery exhibitions officer',\n",
       " 'Retired Museum education officer',\n",
       " 'Retired Risk manager',\n",
       " 'Retired Optometrist',\n",
       " 'Retired Media buyer',\n",
       " 'Academic librarian',\n",
       " 'Retired Building services engineer',\n",
       " 'Retired Estate agent',\n",
       " 'Equality and diversity officer',\n",
       " 'Lecturer, higher education',\n",
       " 'Counselling psychologist',\n",
       " 'Radiation protection practitioner',\n",
       " 'Historic buildings inspector/conservation officer',\n",
       " 'Retired Journalist, newspaper',\n",
       " 'Geochemist',\n",
       " 'Audiological scientist',\n",
       " 'Retired Environmental consultant',\n",
       " 'General practice doctor',\n",
       " 'Sound technician, broadcasting/film/video',\n",
       " 'Editorial assistant',\n",
       " 'Administrator, arts',\n",
       " 'Database administrator',\n",
       " 'Retired Contractor',\n",
       " 'Retired Health and safety inspector',\n",
       " 'Personnel officer',\n",
       " 'Management consultant',\n",
       " 'Engineer, automotive',\n",
       " 'Retired Runner, broadcasting/film/video',\n",
       " 'Retired Buyer, industrial',\n",
       " 'Retired Conservation officer, nature',\n",
       " 'Chartered legal executive (England and Wales)',\n",
       " 'Social research officer, government',\n",
       " \"Barrister's clerk\",\n",
       " 'Proofreader',\n",
       " 'Retired Advertising art director',\n",
       " 'Data scientist',\n",
       " 'Gaffer',\n",
       " 'Programmer, applications',\n",
       " 'Retired Environmental health practitioner',\n",
       " 'Chemist, analytical',\n",
       " 'Tourism officer',\n",
       " 'Brewing technologist',\n",
       " 'Retired Town planner',\n",
       " 'Retired IT consultant',\n",
       " 'Retired Dentist',\n",
       " 'Retired Volunteer coordinator',\n",
       " 'Retired Trade union research officer',\n",
       " 'Location manager',\n",
       " 'Retired Chief of Staff',\n",
       " 'Retired Personnel officer',\n",
       " 'Scientist, biomedical',\n",
       " 'Water quality scientist',\n",
       " 'Hydrogeologist',\n",
       " 'Retired Actor',\n",
       " 'Corporate treasurer',\n",
       " 'Bonds trader',\n",
       " 'Health and safety adviser',\n",
       " 'Lexicographer',\n",
       " 'Advertising art director',\n",
       " 'Patent attorney',\n",
       " 'Animator',\n",
       " 'Commercial art gallery manager',\n",
       " 'Horticultural consultant',\n",
       " 'Engineer, civil (consulting)',\n",
       " 'Retired Clinical embryologist',\n",
       " 'Retired Learning mentor',\n",
       " 'Unenployed',\n",
       " 'Nurse, learning disability',\n",
       " 'Engineer, manufacturing systems',\n",
       " 'Haematologist',\n",
       " 'Production assistant, radio',\n",
       " 'Hydrologist',\n",
       " 'Psychologist, prison and probation services',\n",
       " 'Building control surveyor',\n",
       " 'Film/video editor',\n",
       " 'Therapist, music',\n",
       " 'Licensed conveyancer',\n",
       " 'Engineer, mining',\n",
       " 'Tour manager',\n",
       " 'Government social research officer',\n",
       " 'Public relations account executive',\n",
       " 'Consulting civil engineer',\n",
       " 'Actor',\n",
       " 'Chiropodist',\n",
       " 'Engineer, building services',\n",
       " 'Software engineer',\n",
       " 'Research scientist (life sciences)',\n",
       " 'Hospital doctor',\n",
       " 'Horticulturist, commercial',\n",
       " 'Art gallery manager',\n",
       " 'Retired Public relations account executive',\n",
       " 'Retired Field seismologist',\n",
       " 'Geologist, engineering',\n",
       " 'Building services engineer',\n",
       " 'Lobbyist',\n",
       " 'Retired Translator',\n",
       " 'Retired Nutritional therapist',\n",
       " 'Speech and language therapist',\n",
       " 'Health promotion specialist',\n",
       " 'Surveyor, commercial/residential',\n",
       " 'Musician',\n",
       " 'Financial risk analyst',\n",
       " 'Pensions consultant',\n",
       " 'Presenter, broadcasting',\n",
       " 'Occupational psychologist',\n",
       " 'Planning and development surveyor',\n",
       " 'Administrator',\n",
       " 'Ranger/warden',\n",
       " 'Data processing manager',\n",
       " 'Psychiatrist',\n",
       " 'Retired Office manager',\n",
       " 'Multimedia programmer',\n",
       " 'Research scientist (maths)',\n",
       " 'Conservator, furniture',\n",
       " 'Runner, broadcasting/film/video',\n",
       " 'Product designer',\n",
       " 'Accommodation manager',\n",
       " 'Learning mentor',\n",
       " 'Accountant, chartered management',\n",
       " 'Programmer, multimedia',\n",
       " 'Nurse, adult',\n",
       " 'Systems developer',\n",
       " 'Exhibitions officer, museum/gallery',\n",
       " 'Designer, textile',\n",
       " 'Quality manager',\n",
       " 'Producer, television/film/video',\n",
       " 'Nutritional therapist',\n",
       " 'Nature conservation officer',\n",
       " 'Further education lecturer',\n",
       " 'Animal nutritionist',\n",
       " 'Armed forces training and education officer',\n",
       " 'Veterinary surgeon',\n",
       " 'Electronics engineer',\n",
       " 'Clinical scientist, histocompatibility and immunogenetics',\n",
       " 'Accountant, chartered public finance',\n",
       " 'Hotel manager',\n",
       " 'Physicist, medical',\n",
       " 'Marketing executive',\n",
       " 'Adult guidance worker',\n",
       " 'Company secretary',\n",
       " 'Immigration officer',\n",
       " 'Higher education lecturer',\n",
       " 'Architect',\n",
       " 'Retired Catering manager',\n",
       " 'Chartered accountant',\n",
       " 'Fish farm manager',\n",
       " 'Firefighter',\n",
       " 'Retired Engineer, water',\n",
       " 'Science writer',\n",
       " 'Retired Multimedia specialist',\n",
       " 'Dealer',\n",
       " 'Media planner',\n",
       " 'Tree surgeon',\n",
       " 'Buyer, retail',\n",
       " 'Personal assistant',\n",
       " 'Office manager',\n",
       " 'Emergency planning/management officer',\n",
       " 'Retired Research scientist (medical)',\n",
       " 'IT consultant',\n",
       " 'Chief Operating Officer',\n",
       " 'Biochemist, clinical',\n",
       " 'Volunteer coordinator',\n",
       " 'Chief Executive Officer',\n",
       " 'Merchant navy officer',\n",
       " 'Optician, dispensing',\n",
       " 'Intelligence analyst',\n",
       " 'Building surveyor',\n",
       " 'Hospital pharmacist',\n",
       " 'Secretary, company',\n",
       " 'Hotel Owner and Operator',\n",
       " 'Research officer, political party',\n",
       " 'Engineer, aeronautical',\n",
       " 'Chief Technology Officer',\n",
       " 'Surgeon',\n",
       " 'Contracting civil engineer',\n",
       " 'Metallurgist',\n",
       " 'Therapeutic radiographer',\n",
       " 'Youth worker',\n",
       " 'Doctor, general practice',\n",
       " 'Charity officer',\n",
       " 'Engineer, petroleum',\n",
       " 'Interior and spatial designer',\n",
       " 'Engineer, communications',\n",
       " 'Garment/textile technologist',\n",
       " 'Secretary/administrator',\n",
       " 'Purchasing manager',\n",
       " 'Soil scientist',\n",
       " 'Rural practice surveyor',\n",
       " 'Phytotherapist',\n",
       " 'Retired Surgeon',\n",
       " 'Retired Engineer, maintenance',\n",
       " 'Radiographer, diagnostic',\n",
       " 'Heritage manager',\n",
       " 'Retail manager',\n",
       " 'Land/geomatics surveyor',\n",
       " 'Development worker, community',\n",
       " 'Scientist, water quality',\n",
       " 'Retail buyer',\n",
       " 'Sports development officer',\n",
       " 'Television floor manager',\n",
       " 'Public house manager',\n",
       " 'Conservation officer, nature',\n",
       " 'Psychologist, clinical',\n",
       " 'Retired Designer, television/film set',\n",
       " 'Retired Osteopath',\n",
       " 'Health visitor',\n",
       " 'Engineer, drilling',\n",
       " 'Retail merchandiser',\n",
       " 'Manufacturing systems engineer',\n",
       " 'Fashion designer',\n",
       " 'Surveyor, insurance',\n",
       " 'Logistics and distribution manager',\n",
       " 'Ophthalmologist',\n",
       " 'Child psychotherapist',\n",
       " 'Broadcast presenter',\n",
       " 'Retail banker',\n",
       " 'Therapist, art',\n",
       " 'Chief Marketing Officer',\n",
       " 'Petroleum engineer',\n",
       " 'Agricultural consultant',\n",
       " 'Furniture conservator/restorer',\n",
       " 'Surveyor, planning and development',\n",
       " 'Estate manager/land agent',\n",
       " 'Biomedical engineer',\n",
       " 'Careers adviser',\n",
       " 'Broadcast engineer',\n",
       " 'Technical sales engineer',\n",
       " 'Scientist, product/process development',\n",
       " 'Technical brewer',\n",
       " 'Retired Dancer',\n",
       " 'Retired Financial trader',\n",
       " 'Colour technologist',\n",
       " 'Arts administrator',\n",
       " 'Product manager',\n",
       " 'Risk analyst',\n",
       " 'Publishing rights manager',\n",
       " 'Police officer',\n",
       " 'Financial controller',\n",
       " 'Editor, magazine features',\n",
       " 'Retired Solicitor',\n",
       " 'Retired Film/video editor',\n",
       " 'Stage manager',\n",
       " 'Chief of Staff',\n",
       " 'Engineer, biomedical',\n",
       " 'Therapist, occupational',\n",
       " 'Retired Minerals surveyor',\n",
       " 'Retired Designer, graphic',\n",
       " 'Social researcher',\n",
       " 'Copy',\n",
       " 'Surveyor, building',\n",
       " 'Statistician',\n",
       " 'Media buyer',\n",
       " 'Health service manager',\n",
       " 'Loss adjuster, chartered',\n",
       " 'Medical laboratory scientific officer',\n",
       " 'Accountant, chartered',\n",
       " 'Retired Secretary/administrator',\n",
       " 'Retired Communications engineer',\n",
       " 'Financial planner',\n",
       " 'Geologist, wellsite',\n",
       " 'Biomedical scientist',\n",
       " 'Environmental manager',\n",
       " 'Dietitian',\n",
       " 'Naval architect',\n",
       " 'Illustrator',\n",
       " 'PhD Student',\n",
       " 'Retired Physiotherapist',\n",
       " 'Retired Civil engineer, consulting',\n",
       " 'Neurosurgeon',\n",
       " 'Conservation officer, historic buildings',\n",
       " 'Drilling engineer',\n",
       " 'Local government officer',\n",
       " 'Surveyor, hydrographic',\n",
       " 'Forensic psychologist',\n",
       " 'Set designer',\n",
       " 'Patent examiner',\n",
       " 'Lecturer, further education',\n",
       " 'Engineer, materials',\n",
       " 'Graphic designer',\n",
       " 'Psychologist, forensic',\n",
       " 'Industrial/product designer',\n",
       " 'Herbalist',\n",
       " 'Retired Geologist, engineering',\n",
       " 'Systems analyst',\n",
       " 'Clinical molecular geneticist',\n",
       " 'Education officer, environmental',\n",
       " 'Operational researcher',\n",
       " 'Fast food restaurant manager',\n",
       " 'Geoscientist',\n",
       " 'Scientist, research (life sciences)',\n",
       " 'Cartographer',\n",
       " 'Geophysical data processor',\n",
       " 'Engineering geologist',\n",
       " 'Pathologist',\n",
       " 'Food technologist',\n",
       " 'Facilities manager',\n",
       " 'Archivist',\n",
       " 'Seismic interpreter',\n",
       " 'Retired Production manager',\n",
       " 'Sub',\n",
       " 'Futures trader',\n",
       " 'Land',\n",
       " 'Retired Actuary',\n",
       " 'Surveyor, quantity',\n",
       " 'Advertising account executive',\n",
       " 'Glass blower/designer',\n",
       " 'Chemical engineer',\n",
       " 'Recycling officer',\n",
       " 'Music tutor',\n",
       " 'Travel agency manager',\n",
       " 'Research scientist (medical)',\n",
       " 'Retired Nurse, adult',\n",
       " 'Retired Doctor, hospital',\n",
       " 'Engineer, control and instrumentation',\n",
       " 'Claims inspector/assessor',\n",
       " 'Nurse, mental health',\n",
       " 'Trade union research officer',\n",
       " 'Retired Psychologist, forensic',\n",
       " 'Computer games developer',\n",
       " 'Press photographer',\n",
       " 'Applications developer',\n",
       " 'Magazine features editor',\n",
       " 'Ceramics designer',\n",
       " 'Public affairs consultant',\n",
       " 'Engineer, maintenance',\n",
       " 'Clothing/textile technologist',\n",
       " 'Engineer, structural',\n",
       " 'Furniture designer',\n",
       " 'Fine artist',\n",
       " 'Education officer, community',\n",
       " 'Retired Tourism officer',\n",
       " 'Retired Airline pilot',\n",
       " 'Engineer, electronics',\n",
       " 'Retired Engineer, biomedical',\n",
       " 'Retired Diagnostic radiographer',\n",
       " 'Retired Food technologist',\n",
       " 'Designer, jewellery',\n",
       " 'Clinical cytogeneticist',\n",
       " 'Clinical embryologist',\n",
       " 'Site engineer',\n",
       " 'Retired Administrator, local government',\n",
       " 'Retired Health service manager',\n",
       " 'Accounting technician',\n",
       " 'Insurance risk surveyor',\n",
       " 'Retired Surveyor, commercial/residential',\n",
       " 'Retired Television production assistant',\n",
       " 'Geophysicist/field seismologist',\n",
       " 'Museum/gallery curator',\n",
       " 'Conference centre manager',\n",
       " 'Retired Geologist, wellsite',\n",
       " 'Retired Social worker',\n",
       " 'Retired Company secretary',\n",
       " 'Retired Lecturer, higher education',\n",
       " 'Retired Radiographer, therapeutic',\n",
       " 'Retired Applications developer',\n",
       " 'Sports coach',\n",
       " 'Commissioning editor',\n",
       " 'Tax adviser',\n",
       " 'Production engineer',\n",
       " 'Best boy',\n",
       " 'Solicitor',\n",
       " 'Retired Hospital doctor',\n",
       " 'Publishing copy',\n",
       " 'Retired Senior tax professional/tax inspector',\n",
       " 'Retired Licensed conveyancer',\n",
       " 'Television camera operator',\n",
       " 'Lawyer',\n",
       " 'Arts development officer',\n",
       " 'Human resources officer',\n",
       " 'Retired Naval architect',\n",
       " 'Engineer, civil (contracting)',\n",
       " 'Retired Therapist, speech and language',\n",
       " 'Oceanographer',\n",
       " 'Legal secretary',\n",
       " 'Ship broker',\n",
       " 'Retired Theatre stage manager',\n",
       " 'Sales executive',\n",
       " 'Designer, industrial/product',\n",
       " 'Art therapist',\n",
       " 'Water engineer',\n",
       " 'Lighting technician, broadcasting/film/video',\n",
       " 'Public relations officer',\n",
       " 'Retired Historic buildings inspector/conservation officer',\n",
       " 'Tax inspector',\n",
       " 'Geneticist, molecular',\n",
       " 'Psychologist, educational',\n",
       " 'Pharmacologist',\n",
       " 'Special effects artist',\n",
       " 'Operations geologist',\n",
       " 'Retired Archivist',\n",
       " 'Educational psychologist',\n",
       " 'Advertising account planner',\n",
       " 'Designer, television/film set',\n",
       " 'Careers information officer',\n",
       " 'Retired Sales promotion account executive',\n",
       " 'Textile designer',\n",
       " 'Energy manager',\n",
       " 'Retired Surveyor, building control',\n",
       " 'Broadcast journalist',\n",
       " 'Retired IT technical support officer',\n",
       " 'Retired Event organiser',\n",
       " 'Retired Charity fundraiser',\n",
       " 'Retired Counsellor',\n",
       " 'Retired Scientist, physiological',\n",
       " 'Conservator, museum/gallery',\n",
       " 'Financial trader',\n",
       " 'Minerals surveyor',\n",
       " 'Curator',\n",
       " 'Psychologist, counselling',\n",
       " 'Pilot, airline',\n",
       " 'Investment banker, operational',\n",
       " 'Television/film/video producer',\n",
       " 'Retired Speech and language therapist',\n",
       " 'Retired Arts administrator',\n",
       " 'Race relations officer',\n",
       " 'Radiographer, therapeutic',\n",
       " 'Artist',\n",
       " 'Theatre manager',\n",
       " 'Retired Doctor, general practice',\n",
       " 'Retired Clinical research associate',\n",
       " 'Retired Tour manager',\n",
       " 'Retired Designer, industrial/product',\n",
       " 'Retired Advertising copywriter',\n",
       " 'Retired Education officer, community',\n",
       " 'Retired Financial planner',\n",
       " 'Retired Animal technologist',\n",
       " 'Retired Water quality scientist',\n",
       " 'Retired Interpreter',\n",
       " 'Retired Trade mark attorney',\n",
       " 'Psychiatric nurse',\n",
       " 'Buyer, industrial',\n",
       " 'Sales professional, IT',\n",
       " 'Embryologist, clinical',\n",
       " 'Chartered loss adjuster',\n",
       " 'Administrator, charities/voluntary organisations',\n",
       " 'Surveyor, rural practice',\n",
       " 'Regulatory affairs officer',\n",
       " 'Toxicologist',\n",
       " 'Clinical biochemist',\n",
       " 'Printmaker',\n",
       " 'Retired Engineer, materials',\n",
       " 'Jewellery designer',\n",
       " 'Engineer, chemical',\n",
       " 'Architectural technologist',\n",
       " 'Armed forces operational officer',\n",
       " 'Geographical information systems officer',\n",
       " 'Retired Corporate treasurer',\n",
       " 'Retired Manufacturing engineer',\n",
       " 'Insurance claims handler',\n",
       " 'Scientific laboratory technician',\n",
       " 'Commercial horticulturist',\n",
       " 'Event organiser',\n",
       " 'Production designer, theatre/television/film',\n",
       " 'Counsellor',\n",
       " 'Fisheries officer',\n",
       " 'Retired Call centre manager',\n",
       " 'Retired Multimedia programmer',\n",
       " 'Midwife',\n",
       " 'Scientist, research (medical)',\n",
       " 'Retired Personal assistant',\n",
       " 'Retired Print production planner',\n",
       " 'Air traffic controller',\n",
       " 'Surveyor, mining',\n",
       " 'Civil engineer, contracting',\n",
       " 'Freight forwarder',\n",
       " 'Retired Colour technologist',\n",
       " 'Retired Careers adviser',\n",
       " 'Engineer, site',\n",
       " 'Unemploy',\n",
       " 'Press sub',\n",
       " 'Senior tax professional/tax inspector',\n",
       " 'Retired Surveyor, insurance',\n",
       " 'Retired Records manager',\n",
       " 'Retired Immigration officer',\n",
       " 'Ergonomist',\n",
       " 'Arboriculturist',\n",
       " 'Designer, exhibition/display',\n",
       " 'Games developer',\n",
       " 'Retired Metallurgist',\n",
       " 'Associate Professor',\n",
       " 'Retired Set designer',\n",
       " 'Retired Bonds trader',\n",
       " 'Retired Scientist, biomedical',\n",
       " 'Retired Youth worker',\n",
       " 'Retired Technical author',\n",
       " 'Retired Music tutor',\n",
       " 'Retired Curator',\n",
       " 'Retired Chemical engineer',\n",
       " 'Retired Health and safety adviser',\n",
       " 'Librarian, public',\n",
       " 'Retired Administrator, education',\n",
       " 'Retired Music therapist',\n",
       " 'Air cabin crew',\n",
       " 'Administrator, Civil Service',\n",
       " 'Designer, ceramics/pottery',\n",
       " 'Pharmacist, community',\n",
       " 'Network engineer',\n",
       " 'Retired Retail merchandiser',\n",
       " 'Retired Engineer, mining',\n",
       " 'Retired Copy',\n",
       " 'Engineer, technical sales',\n",
       " 'Investment analyst',\n",
       " 'Warden/ranger',\n",
       " 'Retired Therapist, sports',\n",
       " 'Telecommunications researcher',\n",
       " 'Leisure centre manager',\n",
       " 'Retired Scientist, research (maths)',\n",
       " 'Retired Museum/gallery curator',\n",
       " 'Community development worker',\n",
       " 'Horticultural therapist',\n",
       " 'Editor, commissioning',\n",
       " 'Retired Biomedical scientist',\n",
       " 'Psychotherapist',\n",
       " 'Retired Analytical chemist',\n",
       " 'Surveyor, minerals',\n",
       " 'Retired Neurosurgeon',\n",
       " 'Retired Psychotherapist, dance movement',\n",
       " 'Retired Producer, radio',\n",
       " 'Technical author',\n",
       " 'Therapist, sports',\n",
       " 'Therapist, drama',\n",
       " 'Dramatherapist',\n",
       " 'Retired Clinical molecular geneticist',\n",
       " 'Retired Accommodation manager',\n",
       " 'Bookseller',\n",
       " 'Housing manager/officer',\n",
       " 'Retired Maintenance engineer',\n",
       " 'Corporate investment banker',\n",
       " 'Environmental health practitioner',\n",
       " 'Town planner',\n",
       " 'Editor, film/video',\n",
       " 'Retired Banker',\n",
       " 'Training and development officer',\n",
       " 'Retired Veterinary surgeon',\n",
       " 'Retired Engineer, manufacturing systems',\n",
       " 'Retired Haematologist',\n",
       " 'Retired Probation officer',\n",
       " 'Retired Therapist, music',\n",
       " 'Retired Clinical scientist, histocompatibility and immunogenetics',\n",
       " 'Retired Designer, multimedia',\n",
       " 'Surveyor, building control',\n",
       " 'Chiropractor',\n",
       " 'Photographer',\n",
       " 'Accountant, chartered certified',\n",
       " 'Radio producer',\n",
       " 'Exhibition designer',\n",
       " 'Armed forces logistics/support/administrative officer',\n",
       " 'Community education officer',\n",
       " 'Retired Research officer, political party',\n",
       " 'Manufacturing engineer',\n",
       " 'Designer, graphic',\n",
       " 'Programmer, systems',\n",
       " 'Research officer, trade union',\n",
       " 'Medical secretary',\n",
       " 'Writer',\n",
       " 'Economist',\n",
       " 'Adult nurse',\n",
       " 'Retired Air traffic controller',\n",
       " 'Print production planner',\n",
       " 'International aid/development worker',\n",
       " 'Administrator, education',\n",
       " 'Mudlogger',\n",
       " 'Newspaper journalist',\n",
       " 'Education administrator',\n",
       " 'Operational investment banker',\n",
       " 'Retired Building surveyor',\n",
       " 'Retired Psychologist, prison and probation services',\n",
       " 'Recruitment consultant',\n",
       " 'Engineer, maintenance (IT)',\n",
       " 'Diagnostic radiographer',\n",
       " 'Animal technologist',\n",
       " 'Trade mark attorney',\n",
       " 'Commercial/residential surveyor',\n",
       " 'Television production assistant',\n",
       " 'Astronomer',\n",
       " 'Retired Horticultural therapist',\n",
       " 'Chief Financial Officer',\n",
       " 'Medical technical officer',\n",
       " 'Retired Consulting civil engineer',\n",
       " 'Retired Environmental education officer',\n",
       " 'Scientist, audiological',\n",
       " 'Civil Service administrator',\n",
       " 'Web designer',\n",
       " 'Risk manager',\n",
       " 'Retired Teaching laboratory technician',\n",
       " 'Retired Radio broadcast assistant',\n",
       " 'Retired Information systems manager',\n",
       " 'Energy engineer',\n",
       " 'Psychotherapist, dance movement',\n",
       " 'Medical sales representative',\n",
       " 'Retired Visual merchandiser',\n",
       " 'Retired Therapist, nutritional',\n",
       " 'Psychologist, sport and exercise',\n",
       " 'Sports administrator',\n",
       " 'Health physicist',\n",
       " 'Retired Corporate investment banker',\n",
       " 'Magazine journalist',\n",
       " 'Retired Government social research officer',\n",
       " 'Retired Illustrator',\n",
       " 'Retired Retail banker',\n",
       " 'Retired Make',\n",
       " 'Retired Quantity surveyor',\n",
       " 'Surveyor, land/geomatics',\n",
       " 'Retired Engineering geologist',\n",
       " 'Control and instrumentation engineer',\n",
       " 'Retired Art gallery manager',\n",
       " 'Retired Scientist, audiological',\n",
       " \"Retired Barrister's clerk\",\n",
       " 'Retired IT sales professional',\n",
       " 'Museum/gallery conservator',\n",
       " 'Retired Television floor manager',\n",
       " 'Quarry manager',\n",
       " 'Call centre manager',\n",
       " 'Research scientist (physical sciences)',\n",
       " 'Doctor, hospital',\n",
       " 'Hydrographic surveyor',\n",
       " 'Maintenance engineer',\n",
       " 'Civil Service fast streamer',\n",
       " 'Outdoor activities/education manager',\n",
       " 'Farm manager',\n",
       " 'Environmental consultant',\n",
       " 'Therapist, horticultural',\n",
       " 'Landscape architect',\n",
       " 'Retired Emergency planning/management officer',\n",
       " 'Scientist, clinical (histocompatibility and immunogenetics)',\n",
       " 'Psychologist, occupational',\n",
       " 'Retired Pensions consultant',\n",
       " 'Production manager',\n",
       " 'Public librarian',\n",
       " 'Occupational hygienist',\n",
       " 'Scientist, forensic',\n",
       " 'Professor Emeritus',\n",
       " 'Retired Control and instrumentation engineer',\n",
       " 'Teaching laboratory technician',\n",
       " 'Legal executive',\n",
       " 'Fitness centre manager',\n",
       " 'Plant breeder/geneticist',\n",
       " 'Retired Horticulturist, commercial',\n",
       " 'Marine scientist',\n",
       " 'Financial adviser',\n",
       " 'Retired Accountant, chartered management',\n",
       " 'Investment banker, corporate',\n",
       " 'Engineer, electrical',\n",
       " 'Retired Scientist, product/process development',\n",
       " 'Retired Pension scheme manager',\n",
       " 'Warehouse manager',\n",
       " 'Retired Ship broker',\n",
       " 'Barrister',\n",
       " 'Retired Chief Strategy Officer',\n",
       " 'Dance movement psychotherapist',\n",
       " 'Retired Accountant, chartered public finance',\n",
       " 'Orthoptist',\n",
       " 'Passenger transport manager',\n",
       " 'Retired Prison officer',\n",
       " 'Retired Biochemist, clinical',\n",
       " 'Occupational therapist',\n",
       " 'Osteopath',\n",
       " 'Retired Cytogeneticist',\n",
       " 'Dancer',\n",
       " 'Retired Radiation protection practitioner',\n",
       " 'Health and safety inspector',\n",
       " 'Armed forces technical officer',\n",
       " 'Scientist, physiological',\n",
       " 'Physiological scientist',\n",
       " 'Records manager',\n",
       " 'Immunologist',\n",
       " 'Learning disability nurse',\n",
       " 'Retired Surveyor, minerals',\n",
       " 'Prison officer',\n",
       " 'Retired Medical technical officer',\n",
       " 'Retired Press sub',\n",
       " 'Industrial buyer',\n",
       " 'Psychotherapist, child',\n",
       " 'Sports therapist',\n",
       " 'Restaurant manager, fast food',\n",
       " 'Electrical engineer',\n",
       " 'Retired Clinical psychologist',\n",
       " 'Retired Insurance broker',\n",
       " 'Civil engineer, consulting',\n",
       " 'student',\n",
       " 'Scientist, research (physical sciences)',\n",
       " 'Optometrist',\n",
       " 'Retired Dramatherapist',\n",
       " 'Chartered management accountant',\n",
       " 'Engineer, water',\n",
       " 'Community arts worker',\n",
       " 'Dentist',\n",
       " 'Retired Land/geomatics surveyor',\n",
       " 'Homeopath',\n",
       " 'Retired Arboriculturist',\n",
       " 'Producer, radio',\n",
       " 'Therapist, speech and language',\n",
       " 'Retired Biomedical engineer',\n",
       " 'Retired Media planner',\n",
       " 'Retired Development worker, community',\n",
       " 'Retired Transport planner',\n",
       " 'Retired Fisheries officer',\n",
       " 'Estate agent',\n",
       " 'Research officer, government',\n",
       " 'Microbiologist',\n",
       " 'Physiotherapist',\n",
       " 'Retired Embryologist, clinical',\n",
       " 'Retired Scientist, clinical (histocompatibility and immunogenetics)',\n",
       " 'Retired Accountant, chartered',\n",
       " 'Advice worker',\n",
       " 'Student Lodge Owner and Operator',\n",
       " 'Retired Plant breeder/geneticist',\n",
       " 'Sales promotion account executive',\n",
       " 'Equities trader',\n",
       " 'Community pharmacist',\n",
       " 'Financial manager',\n",
       " 'Retired Computer games developer',\n",
       " \"Nurse, children's\",\n",
       " 'Retired Telecommunications researcher',\n",
       " 'Retired Facilities manager',\n",
       " 'Retired Agricultural consultant',\n",
       " 'Agricultural engineer',\n",
       " 'Medical physicist',\n",
       " 'Environmental education officer',\n",
       " 'Engineer, agricultural',\n",
       " 'IT sales professional',\n",
       " 'Retired Careers information officer',\n",
       " 'Retired Firefighter',\n",
       " 'Retired Air cabin crew',\n",
       " 'Retired Newspaper journalist',\n",
       " 'Retired Recycling officer',\n",
       " 'Exercise physiologist',\n",
       " 'Cabin crew',\n",
       " 'Scientist, marine',\n",
       " 'Clinical research associate',\n",
       " 'Insurance broker',\n",
       " 'Retired Mining engineer',\n",
       " 'Retired Sales professional, IT',\n",
       " 'Retired Police officer',\n",
       " 'Retired Proofreader',\n",
       " 'Retired Associate Professor',\n",
       " 'Retired Scientist, research (life sciences)',\n",
       " 'Retired Soil scientist',\n",
       " 'Retired Broadcast presenter',\n",
       " 'Retired Photographer',\n",
       " 'Retired Technical brewer',\n",
       " 'Barista',\n",
       " 'Horticulturist, amenity',\n",
       " 'Air broker',\n",
       " 'Retired Conservator, furniture',\n",
       " 'Retired Data scientist',\n",
       " 'Sport and exercise psychologist',\n",
       " 'Retired Surveyor, planning and development',\n",
       " 'Acupuncturist',\n",
       " 'Insurance underwriter',\n",
       " 'Retired Civil Service fast streamer',\n",
       " 'Retired Ceramics designer',\n",
       " 'Tourist information centre manager',\n",
       " 'Retired Lawyer',\n",
       " 'Retired Programme researcher, broadcasting/film/video',\n",
       " 'Retired Archaeologist',\n",
       " 'Retired Geochemist',\n",
       " 'Mechanical engineer',\n",
       " 'Diplomatic Services operational officer',\n",
       " 'Retired Journalist, broadcasting',\n",
       " 'Engineer, broadcasting (operations)',\n",
       " 'Advertising copywriter',\n",
       " 'Designer, furniture',\n",
       " 'Retired Television camera operator',\n",
       " 'Amenity horticulturist',\n",
       " 'Theatre director',\n",
       " 'Aeronautical engineer',\n",
       " 'Scientist, research (maths)',\n",
       " 'Retired Armed forces technical officer',\n",
       " 'Retired Land',\n",
       " 'Retired Warehouse manager',\n",
       " 'Retired Architectural technologist',\n",
       " 'Retired Surveyor, building',\n",
       " 'Ambulance person',\n",
       " 'Retired Meteorologist',\n",
       " 'Retired Financial manager',\n",
       " 'Retired Aid worker',\n",
       " 'Retired Geoscientist',\n",
       " 'Retired Research scientist (life sciences)',\n",
       " 'Retired Artist',\n",
       " 'Retired Psychologist, sport and exercise',\n",
       " 'Retired Dispensing optician',\n",
       " 'Retired Radio producer',\n",
       " 'Retired Orthoptist',\n",
       " 'Retired Heritage manager',\n",
       " 'Retired Patent examiner',\n",
       " 'Chartered certified accountant',\n",
       " 'Retired Development worker, international aid',\n",
       " 'Retired Educational psychologist',\n",
       " 'Retired Surveyor, mining',\n",
       " 'Retired Software engineer',\n",
       " 'Retired Furniture conservator/restorer',\n",
       " 'Sudent',\n",
       " 'Retired Armed forces training and education officer',\n",
       " 'Retired Garment/textile technologist',\n",
       " 'Retired Oncologist',\n",
       " 'Retired Site engineer',\n",
       " 'Retired Web designer',\n",
       " 'Retired Psychologist, counselling',\n",
       " 'Retired Seismic interpreter',\n",
       " 'Retired Therapist, art',\n",
       " 'Comptroller',\n",
       " 'Retired Drilling engineer',\n",
       " 'Retired Publishing copy',\n",
       " 'Retired Advertising account executive',\n",
       " 'IT technical support officer',\n",
       " 'IT trainer',\n",
       " 'Retired Academic librarian',\n",
       " 'Retired Glass blower/designer',\n",
       " 'Retired Theatre manager',\n",
       " 'Retired Geographical information systems officer',\n",
       " 'Retired Administrator, Civil Service',\n",
       " 'Retired Copywriter, advertising',\n",
       " 'Retired Physiological scientist',\n",
       " 'Retired Tax inspector',\n",
       " 'Retired Clinical biochemist',\n",
       " 'Retired Health promotion specialist',\n",
       " 'Mental health nurse',\n",
       " 'Retired Oceanographer',\n",
       " 'Therapist, nutritional',\n",
       " 'Retired Therapist, horticultural',\n",
       " 'Retired Exercise physiologist',\n",
       " 'Retired Publishing rights manager',\n",
       " 'Retired Pathologist',\n",
       " 'Retired Barrister',\n",
       " 'Retired Education officer, environmental',\n",
       " 'Retired Higher education lecturer',\n",
       " 'Materials engineer',\n",
       " 'Retired Writer',\n",
       " 'Retired Engineer, energy',\n",
       " 'Retired Administrator, charities/voluntary organisations',\n",
       " 'Retired Furniture designer',\n",
       " 'Retired Theatre director',\n",
       " 'Retired Engineer, manufacturing',\n",
       " 'Retired Ranger/warden',\n",
       " 'Development worker, international aid',\n",
       " 'Retired IT trainer',\n",
       " 'Retired Presenter, broadcasting',\n",
       " 'Retired Medical physicist',\n",
       " 'Retired Designer, furniture',\n",
       " 'Retired Electronics engineer',\n",
       " 'Retired Fast food restaurant manager',\n",
       " 'Retired Acupuncturist',\n",
       " 'Retired Production engineer',\n",
       " 'Retired Automotive engineer',\n",
       " 'Retired Engineer, communications',\n",
       " 'Retired Hydrogeologist',\n",
       " 'Retired Futures trader',\n",
       " 'Clinical psychologist',\n",
       " 'Retired Engineer, maintenance (IT)',\n",
       " 'Retired Fitness centre manager',\n",
       " 'Retired Musician',\n",
       " 'Retired Museum/gallery conservator',\n",
       " 'Retired Camera operator',\n",
       " 'Retired Education officer, museum',\n",
       " 'Retired Manufacturing systems engineer',\n",
       " 'Retired Engineer, production',\n",
       " 'Librarian, academic',\n",
       " 'Retired Pharmacist, community',\n",
       " 'Retired Retail buyer',\n",
       " 'Retired Gaffer',\n",
       " 'Retired Librarian, public',\n",
       " 'Retired Chief Operating Officer',\n",
       " 'Retired Mental health nurse',\n",
       " 'Retired Civil Service administrator',\n",
       " 'Retired Advice worker',\n",
       " 'Retired Forest/woodland manager',\n",
       " 'Retired Chemist, analytical',\n",
       " 'Retired Conference centre manager',\n",
       " 'Retired Investment banker, operational',\n",
       " 'Retired Diplomatic Services operational officer',\n",
       " 'Retired Materials engineer',\n",
       " 'Retired Exhibition designer',\n",
       " 'Make',\n",
       " 'Retired Radiographer, diagnostic',\n",
       " 'Retired Pharmacist, hospital',\n",
       " 'Retired Product/process development scientist',\n",
       " 'Retired Production assistant, radio',\n",
       " 'Retired Adult nurse',\n",
       " 'Meteor0logist',\n",
       " 'Retired Broadcast journalist',\n",
       " 'Retired Toxicologist',\n",
       " 'Sturgeon',\n",
       " 'Retired Purchasing manager',\n",
       " 'Retired Community development worker',\n",
       " 'Retired Public relations officer',\n",
       " 'Retired Sports development officer',\n",
       " 'Retired Herbalist',\n",
       " 'Retired Surveyor, quantity',\n",
       " 'Retired Aeronautical engineer',\n",
       " 'Retired Travel agency manager',\n",
       " 'Retired Lobbyist',\n",
       " 'Retired Secretary, company',\n",
       " 'Retired Public house manager',\n",
       " 'Retired General practice doctor',\n",
       " 'Retired Arts development officer',\n",
       " 'Retired Landscape architect',\n",
       " 'Retired Management consultant',\n",
       " 'Retired Engineer, structural',\n",
       " 'Retired Adult guidance worker',\n",
       " 'Retired Librarian, academic',\n",
       " ...]"
      ]
     },
     "execution_count": 61,
     "metadata": {},
     "output_type": "execute_result"
    }
   ],
   "source": [
    "df_commuters.Occupation.unique().tolist()"
   ]
  },
  {
   "cell_type": "code",
   "execution_count": 62,
   "metadata": {},
   "outputs": [
    {
     "data": {
      "text/plain": [
       "0       False\n",
       "1       False\n",
       "2       False\n",
       "3       False\n",
       "4       False\n",
       "        ...  \n",
       "9092     True\n",
       "9093    False\n",
       "9094    False\n",
       "9095    False\n",
       "9096    False\n",
       "Name: Occupation, Length: 9097, dtype: bool"
      ]
     },
     "execution_count": 62,
     "metadata": {},
     "output_type": "execute_result"
    }
   ],
   "source": [
    "retired_grp = df_commuters.Occupation.str.lower().str.contains('retired')\n",
    "retired_grp"
   ]
  },
  {
   "cell_type": "code",
   "execution_count": 63,
   "metadata": {},
   "outputs": [],
   "source": [
    "df_commuters.loc[retired_grp, 'Occupation'] = 'Retired People'"
   ]
  },
  {
   "cell_type": "code",
   "execution_count": 64,
   "metadata": {},
   "outputs": [
    {
     "data": {
      "text/plain": [
       "0       False\n",
       "1       False\n",
       "2       False\n",
       "3       False\n",
       "4       False\n",
       "        ...  \n",
       "9092    False\n",
       "9093     True\n",
       "9094    False\n",
       "9095    False\n",
       "9096    False\n",
       "Name: Occupation, Length: 9097, dtype: bool"
      ]
     },
     "execution_count": 64,
     "metadata": {},
     "output_type": "execute_result"
    }
   ],
   "source": [
    "engineer_grp = df_commuters.Occupation.str.lower().str.contains('engineer')\n",
    "engineer_grp"
   ]
  },
  {
   "cell_type": "code",
   "execution_count": 65,
   "metadata": {},
   "outputs": [
    {
     "data": {
      "text/plain": [
       "Index(['Student', 'Retired People', 'University Student', 'Unemployed',\n",
       "       'Child', 'Teacher', 'PhD Student', 'Retail buyer', 'Set designer',\n",
       "       'Contractor',\n",
       "       ...\n",
       "       'Unemploy', 'Sturgeon', 'Hotel Owner and Operator', 'Unenployed',\n",
       "       'IT technical support officer', 'student', 'Sudent',\n",
       "       'Student Lodge Owner and Operator', 'Horticultural therapist',\n",
       "       'Multimedia specialist'],\n",
       "      dtype='object', length=639)"
      ]
     },
     "execution_count": 65,
     "metadata": {},
     "output_type": "execute_result"
    }
   ],
   "source": [
    "occupations = df_commuters.Occupation.value_counts().index\n",
    "occupations"
   ]
  },
  {
   "cell_type": "code",
   "execution_count": 66,
   "metadata": {},
   "outputs": [],
   "source": [
    "occupations\n",
    "df_commuters.Occupation.replace(occupations[5:], 'Commuters', inplace=True)\n",
    "df_commuters.Occupation.replace('University Student', 'Commuters', inplace=True)"
   ]
  },
  {
   "cell_type": "code",
   "execution_count": 67,
   "metadata": {},
   "outputs": [
    {
     "name": "stdout",
     "output_type": "stream",
     "text": [
      "            index  Occupation\n",
      "0       Commuters        5543\n",
      "1         Student        1755\n",
      "2  Retired People         767\n",
      "3      Unemployed         568\n",
      "4           Child         464\n"
     ]
    },
    {
     "data": {
      "text/plain": [
       "<AxesSubplot:xlabel='index', ylabel='Occupation'>"
      ]
     },
     "execution_count": 67,
     "metadata": {},
     "output_type": "execute_result"
    },
    {
     "data": {
      "image/png": "[encoded data removed]",
      "text/plain": [
       "<Figure size 432x288 with 1 Axes>"
      ]
     },
     "metadata": {},
     "output_type": "display_data"
    }
   ],
   "source": [
    "print(df_commuters.Occupation.value_counts().reset_index())\n",
    "sns.barplot(data=df_commuters.Occupation.value_counts().reset_index(), x='index', y='Occupation')"
   ]
  },
  {
   "cell_type": "code",
   "execution_count": 68,
   "metadata": {},
   "outputs": [
    {
     "data": {
      "image/png": "[encoded data removed]",
      "text/plain": [
       "<Figure size 432x288 with 1 Axes>"
      ]
     },
     "metadata": {},
     "output_type": "display_data"
    }
   ],
   "source": [
    "sns.boxplot(x=df.Age, y=df['Occupation'])\n",
    "plt.show()"
   ]
  },
  {
   "cell_type": "markdown",
   "metadata": {},
   "source": [
    "### Employment rate :\n",
    "It is important to measure the degree of employment in the population as this will enable the goverment  take informed decision on the direction of investment in infrastructure to aid within the context of our discussion investment in Train Station"
   ]
  },
  {
   "cell_type": "code",
   "execution_count": 69,
   "metadata": {},
   "outputs": [],
   "source": [
    "cnt_Unemployed = df.Occupation.where(df.Occupation=='Unemployed').value_counts()['Unemployed']"
   ]
  },
  {
   "cell_type": "code",
   "execution_count": 70,
   "metadata": {},
   "outputs": [
    {
     "name": "stdout",
     "output_type": "stream",
     "text": [
      "Proportion of unemployed is 6.24%\n"
     ]
    }
   ],
   "source": [
    "print(f\"Proportion of unemployed is {cnt_Unemployed/df.shape[0] * 100:.2f}%\")"
   ]
  },
  {
   "cell_type": "code",
   "execution_count": 71,
   "metadata": {},
   "outputs": [
    {
     "data": {
      "text/plain": [
       "Employed      93.76%\n",
       "Unemployed     6.24%\n",
       "Name: Occupation, dtype: object"
      ]
     },
     "execution_count": 71,
     "metadata": {},
     "output_type": "execute_result"
    }
   ],
   "source": [
    "temp_df = df.copy()\n",
    "temp_df.loc[temp_df.Occupation.str.lower().str.contains('retired'), 'Occupation'] = 'Retired'\n",
    "\n",
    "other_occup = temp_df.Occupation.unique().tolist()\n",
    "other_occup.remove('Unemployed')\n",
    "\n",
    "employment_status = temp_df.Occupation.replace(other_occup, 'Employed')\n",
    "employment_status = employment_status.value_counts(normalize=True)\n",
    "employment_status.map('{:.2%}'.format)"
   ]
  },
  {
   "cell_type": "code",
   "execution_count": 72,
   "metadata": {},
   "outputs": [
    {
     "name": "stdout",
     "output_type": "stream",
     "text": [
      "<class 'pandas.core.frame.DataFrame'>\n",
      "RangeIndex: 2 entries, 0 to 1\n",
      "Data columns (total 2 columns):\n",
      " #   Column      Non-Null Count  Dtype  \n",
      "---  ------      --------------  -----  \n",
      " 0   index       2 non-null      object \n",
      " 1   Occupation  2 non-null      float64\n",
      "dtypes: float64(1), object(1)\n",
      "memory usage: 88.0+ bytes\n"
     ]
    }
   ],
   "source": [
    "employment_status.reset_index().info()"
   ]
  },
  {
   "cell_type": "code",
   "execution_count": 73,
   "metadata": {},
   "outputs": [
    {
     "data": {
      "text/plain": [
       "<AxesSubplot:ylabel='Occupation'>"
      ]
     },
     "execution_count": 73,
     "metadata": {},
     "output_type": "execute_result"
    },
    {
     "data": {
      "image/png": "[encoded data removed]",
      "text/plain": [
       "<Figure size 432x288 with 1 Axes>"
      ]
     },
     "metadata": {},
     "output_type": "display_data"
    }
   ],
   "source": [
    "sns.barplot(y=employment_status, x=employment_status.index)"
   ]
  },
  {
   "cell_type": "code",
   "execution_count": 74,
   "metadata": {},
   "outputs": [
    {
     "data": {
      "image/png": "[encoded data removed]",
      "text/plain": [
       "<Figure size 432x288 with 1 Axes>"
      ]
     },
     "metadata": {},
     "output_type": "display_data"
    }
   ],
   "source": [
    "sns.boxplot(x=df.Age, y=df['Occupation'])\n",
    "plt.show()"
   ]
  },
  {
   "cell_type": "markdown",
   "metadata": {},
   "source": [
    "## Distribution in line of Religion : \n",
    "#### Another option to consider in advising the government is if there is a need for a second church or for a different religious building, this can be resolved by critically analysing the 'need' in terms of population per religion and looking at the age distribution in each religion to determine the trend of growth."
   ]
  },
  {
   "cell_type": "code",
   "execution_count": 75,
   "metadata": {},
   "outputs": [
    {
     "data": {
      "image/png": "[encoded data removed]",
      "text/plain": [
       "<Figure size 720x360 with 1 Axes>"
      ]
     },
     "metadata": {},
     "output_type": "display_data"
    }
   ],
   "source": [
    "df.groupby('Religion')[\"Religion\"].count().plot(kind=\"bar\", figsize=(10,5), legend=True)\n",
    "\n",
    "# show values / data values on the bars\n",
    "import math\n",
    "# Set plotting style\n",
    "sns.set_style('dark')\n",
    "\n",
    "# Rounding the integer to the next hundredth value plus an offset of 100\n",
    "def roundup(x):\n",
    "    return 100 + int(math.ceil(x / 100.0)) * 100 \n",
    "\n",
    "# Get current axis on current figure\n",
    "ax = plt.gca()\n",
    "\n",
    "# ylim max value to be set\n",
    "y_max = df['Gender'].value_counts().max() \n",
    "ax.set_ylim([0, roundup(y_max)])\n",
    "\n",
    "# Iterate through the list of axes' patches\n",
    "for p in ax.patches:\n",
    "    ax.text(p.get_x() + p.get_width()/2., p.get_height(), '%d' % int(p.get_height()), \n",
    "            fontsize=12, color='blue', ha='center', va='bottom')\n",
    "\n",
    "plt.show()"
   ]
  },
  {
   "cell_type": "code",
   "execution_count": 76,
   "metadata": {},
   "outputs": [
    {
     "data": {
      "text/plain": [
       "<Figure size 720x360 with 0 Axes>"
      ]
     },
     "metadata": {},
     "output_type": "display_data"
    },
    {
     "data": {
      "image/png": "[encoded data removed]",
      "text/plain": [
       "<Figure size 443.875x360 with 1 Axes>"
      ]
     },
     "metadata": {},
     "output_type": "display_data"
    }
   ],
   "source": [
    "plt.figure(figsize=(10,5))\n",
    "sns.set_style(\"whitegrid\")\n",
    "sns.FacetGrid(df, hue=\"Religion\", height=5) \\\n",
    "    .map(plt.scatter, \"Age\", \"Religion\") \\\n",
    "    .add_legend();\n",
    "\n",
    "plt.show()"
   ]
  },
  {
   "cell_type": "code",
   "execution_count": 77,
   "metadata": {},
   "outputs": [],
   "source": [
    "#age = df.Age\n",
    "#age = pd.cut(age, cat)\n",
    "#sns.histplot(x=age, binwidth=5, hue=employment_status, multiple='fill')"
   ]
  },
  {
   "cell_type": "markdown",
   "metadata": {},
   "source": [
    "## HIGH DENSITY HOUSING VS LOW DENSITY HOUSING\n",
    "\n",
    "High density housing would be under consideration if the population is significantly expanding and Low density housing will be considered if population is 'affluent' and there is demand for large family housing\n",
    "\n",
    "As defined by https://encyclopedia2.thefreedictionary.com/expanding+population an expanding population is a population containing a large proportion of young individuals and https://www.un.org/en/global-issues/youth#:~:text=There%20is%20no%20universally%20agreed,of%2015%20and%2024%20years puts the age band for youths between 15 and 25 years of age and an affluent population is seen as that with wealth and deep purse , https://www.vocabulary.com/dictionary/affluent makes this even clearer in relation to surburbs"
   ]
  },
  {
   "cell_type": "code",
   "execution_count": 78,
   "metadata": {},
   "outputs": [
    {
     "data": {
      "text/plain": [
       "Index(['House Number', 'Street', 'First Name', 'Surname', 'Age',\n",
       "       'Relationship to Head of House', 'Marital Status', 'Gender',\n",
       "       'Occupation', 'Infirmity', 'Religion'],\n",
       "      dtype='object')"
      ]
     },
     "execution_count": 78,
     "metadata": {},
     "output_type": "execute_result"
    }
   ],
   "source": [
    "df.columns"
   ]
  },
  {
   "cell_type": "code",
   "execution_count": 79,
   "metadata": {},
   "outputs": [
    {
     "data": {
      "text/plain": [
       "Head                3872\n",
       "Son                 1496\n",
       "Daughter            1478\n",
       "Husband              897\n",
       "Lodger               364\n",
       "Wife                 312\n",
       "Partner              273\n",
       "Grandson             100\n",
       "Granddaughter         74\n",
       "Cousin                62\n",
       "Sibling               36\n",
       "Step-Daughter         23\n",
       "Visitor               23\n",
       "Adopted Daughter      23\n",
       "Step-Son              20\n",
       "Adopted Son           15\n",
       "Niece                 13\n",
       "Nephew                10\n",
       " Wife                  2\n",
       "Adopted Grandson       2\n",
       "Child                  1\n",
       "Son-in-law             1\n",
       "Name: Relationship to Head of House, dtype: int64"
      ]
     },
     "execution_count": 79,
     "metadata": {},
     "output_type": "execute_result"
    }
   ],
   "source": [
    "df['Relationship to Head of House'].value_counts()"
   ]
  },
  {
   "cell_type": "code",
   "execution_count": 80,
   "metadata": {},
   "outputs": [
    {
     "data": {
      "text/plain": [
       "Single      5462\n",
       "Married     2430\n",
       "Divorced     840\n",
       "Widowed      365\n",
       "Name: Marital Status, dtype: int64"
      ]
     },
     "execution_count": 80,
     "metadata": {},
     "output_type": "execute_result"
    }
   ],
   "source": [
    "df['Marital Status'].value_counts()"
   ]
  },
  {
   "cell_type": "code",
   "execution_count": 81,
   "metadata": {},
   "outputs": [
    {
     "data": {
      "text/plain": [
       "Female    4799\n",
       "Male      4298\n",
       "Name: Gender, dtype: int64"
      ]
     },
     "execution_count": 81,
     "metadata": {},
     "output_type": "execute_result"
    }
   ],
   "source": [
    "df['Gender'].value_counts()"
   ]
  },
  {
   "cell_type": "code",
   "execution_count": 82,
   "metadata": {},
   "outputs": [
    {
     "data": {
      "text/plain": [
       "Healthy                9046\n",
       "Physical Disability      14\n",
       "Unknown Infection        10\n",
       "Mental Disability         9\n",
       "Deaf                      7\n",
       "Disabled                  6\n",
       "Blind                     5\n",
       "Name: Infirmity, dtype: int64"
      ]
     },
     "execution_count": 82,
     "metadata": {},
     "output_type": "execute_result"
    }
   ],
   "source": [
    "df['Infirmity'].value_counts()"
   ]
  },
  {
   "cell_type": "markdown",
   "metadata": {},
   "source": [
    "# Marital status"
   ]
  },
  {
   "cell_type": "code",
   "execution_count": 83,
   "metadata": {},
   "outputs": [
    {
     "data": {
      "text/plain": [
       "array(['Divorced', 'Single', 'Married', 'Widowed'], dtype=object)"
      ]
     },
     "execution_count": 83,
     "metadata": {},
     "output_type": "execute_result"
    }
   ],
   "source": [
    "df[\"Marital Status\"].unique()"
   ]
  },
  {
   "cell_type": "code",
   "execution_count": 84,
   "metadata": {},
   "outputs": [],
   "source": [
    "div=df[df[\"Marital Status\"] == \"Divorced\"]\n",
    "\n",
    "sig=df[df[\"Marital Status\"] == \"Single\"]"
   ]
  },
  {
   "cell_type": "code",
   "execution_count": 85,
   "metadata": {},
   "outputs": [],
   "source": [
    "single = div.append(sig, ignore_index=True)"
   ]
  },
  {
   "cell_type": "code",
   "execution_count": 86,
   "metadata": {},
   "outputs": [
    {
     "data": {
      "text/plain": [
       "<seaborn.axisgrid.PairGrid at 0x25c759a0>"
      ]
     },
     "execution_count": 86,
     "metadata": {},
     "output_type": "execute_result"
    },
    {
     "data": {
      "image/png": "[encoded data removed]",
      "text/plain": [
       "<Figure size 435.5x360 with 6 Axes>"
      ]
     },
     "metadata": {},
     "output_type": "display_data"
    }
   ],
   "source": [
    "sns.pairplot(single, hue=\"Marital Status\", kind=\"scatter\", diag_kind=\"hist\")"
   ]
  },
  {
   "cell_type": "markdown",
   "metadata": {},
   "source": [
    "#### Grouping Married and Widowed\n"
   ]
  },
  {
   "cell_type": "code",
   "execution_count": 87,
   "metadata": {},
   "outputs": [],
   "source": [
    "mar=df[df[\"Marital Status\"] == \"Married\"]\n",
    "\n",
    "wid=df[df[\"Marital Status\"] == \"Widowed\"]"
   ]
  },
  {
   "cell_type": "code",
   "execution_count": 88,
   "metadata": {},
   "outputs": [],
   "source": [
    "married = mar.append(wid, ignore_index=True)"
   ]
  },
  {
   "cell_type": "code",
   "execution_count": 89,
   "metadata": {},
   "outputs": [
    {
     "data": {
      "text/plain": [
       "<seaborn.axisgrid.PairGrid at 0x257be1d8>"
      ]
     },
     "execution_count": 89,
     "metadata": {},
     "output_type": "execute_result"
    },
    {
     "data": {
      "image/png": "[encoded data removed]",
      "text/plain": [
       "<Figure size 437.375x360 with 6 Axes>"
      ]
     },
     "metadata": {},
     "output_type": "display_data"
    }
   ],
   "source": [
    "sns.pairplot(married, hue=\"Marital Status\", kind=\"scatter\", diag_kind=\"hist\")"
   ]
  },
  {
   "cell_type": "markdown",
   "metadata": {},
   "source": [
    "## Occupancy level"
   ]
  },
  {
   "cell_type": "code",
   "execution_count": 90,
   "metadata": {},
   "outputs": [
    {
     "data": {
      "image/png": "[encoded data removed]",
      "text/plain": [
       "<Figure size 864x432 with 1 Axes>"
      ]
     },
     "metadata": {},
     "output_type": "display_data"
    }
   ],
   "source": [
    "occupancy = df.groupby(['House Number', 'Street'])['Surname'].count()\n",
    "\n",
    "plt.figure(figsize=(12, 6))\n",
    "hist=sns.histplot(x=occupancy, kde=True)\n",
    "hist.set(title='Distribution of Occupancy Level', xlabel='Number of Occupants', ylabel='Numer of houses')\n",
    "plt.show()"
   ]
  },
  {
   "cell_type": "code",
   "execution_count": 91,
   "metadata": {},
   "outputs": [
    {
     "data": {
      "text/plain": [
       "1 or 2       0.544327\n",
       "3, 4 or 5    0.404526\n",
       "6            0.022319\n",
       "7            0.005580\n",
       "10           0.004960\n",
       "Name: Surname, dtype: float64"
      ]
     },
     "execution_count": 91,
     "metadata": {},
     "output_type": "execute_result"
    }
   ],
   "source": [
    "occupancy.replace({1:'1 or 2', 2:'1 or 2', 3:'3, 4 or 5', 4:'3, 4 or 5', 5:'3, 4 or 5'}).value_counts(normalize=True).head()"
   ]
  },
  {
   "cell_type": "markdown",
   "metadata": {},
   "source": [
    "Up to 54% of the houses have between 1 or 2 occupants. About 40% have 3 to 5 occupants. \n",
    "This indicates that the houses are not stretched capacity-wise. although the decision to build new \n",
    "houses depends on the sizes of the existing ones with few occupants."
   ]
  },
  {
   "cell_type": "markdown",
   "metadata": {},
   "source": [
    "## BIRTH RATE VS DEATH RATE"
   ]
  },
  {
   "cell_type": "code",
   "execution_count": 92,
   "metadata": {},
   "outputs": [],
   "source": [
    "age = df.Age"
   ]
  },
  {
   "cell_type": "code",
   "execution_count": 93,
   "metadata": {},
   "outputs": [
    {
     "data": {
      "text/plain": [
       "0       38\n",
       "1        3\n",
       "2       40\n",
       "3        9\n",
       "4       20\n",
       "        ..\n",
       "9092    70\n",
       "9093    33\n",
       "9094    33\n",
       "9095    30\n",
       "9096     5\n",
       "Name: Age, Length: 9097, dtype: int64"
      ]
     },
     "execution_count": 93,
     "metadata": {},
     "output_type": "execute_result"
    }
   ],
   "source": [
    "age"
   ]
  },
  {
   "cell_type": "code",
   "execution_count": 94,
   "metadata": {},
   "outputs": [
    {
     "name": "stdout",
     "output_type": "stream",
     "text": [
      "Birth rate: nan\n"
     ]
    },
    {
     "name": "stderr",
     "output_type": "stream",
     "text": [
      "<ipython-input-94-d449b48ff38c>:5: RuntimeWarning: invalid value encountered in longlong_scalars\n",
      "  birth_rate = children_aged_0 / child_bearing_women * 100000\n"
     ]
    }
   ],
   "source": [
    "children_aged_0 = (age==0).sum()\n",
    "\n",
    "child_bearing_women = df.query('Age>=25 and Age<=29 and `Gender`==\"female\"').shape[0]\n",
    "\n",
    "birth_rate = children_aged_0 / child_bearing_women * 100000\n",
    "print(\"Birth rate:\", birth_rate)"
   ]
  },
  {
   "cell_type": "code",
   "execution_count": 95,
   "metadata": {},
   "outputs": [
    {
     "name": "stdout",
     "output_type": "stream",
     "text": [
      "Birth rate: 28051.94805194805\n"
     ]
    }
   ],
   "source": [
    "children_aged_0 = (age==4).sum()\n",
    "\n",
    "child_bearing_women = df.query('Age>=30 and Age<=34 and `Gender`==\"Female\"').shape[0]\n",
    "\n",
    "birth_rate = children_aged_0 / child_bearing_women * 100000\n",
    "print(\"Birth rate:\", birth_rate)"
   ]
  },
  {
   "cell_type": "code",
   "execution_count": 96,
   "metadata": {},
   "outputs": [
    {
     "name": "stdout",
     "output_type": "stream",
     "text": [
      "Death rate for older age group: 19.381443298969074\n"
     ]
    }
   ],
   "source": [
    "old_56_60 = df.query('Age>=56 and Age<=60').shape[0]\n",
    "\n",
    "\n",
    "old_61_65 = df.query('Age>=61 and Age<=65').shape[0]\n",
    "death_rate = (old_56_60 - old_61_65)/old_56_60 * 100\n",
    "print(\"Death rate for older age group:\", death_rate)"
   ]
  },
  {
   "cell_type": "markdown",
   "metadata": {},
   "source": [
    " Death rate\n",
    " Compute the number of people in the age range 56-60, versus 61-65"
   ]
  },
  {
   "cell_type": "code",
   "execution_count": 97,
   "metadata": {},
   "outputs": [
    {
     "name": "stdout",
     "output_type": "stream",
     "text": [
      "Death rate for older age group: 193.81443298969072\n"
     ]
    }
   ],
   "source": [
    "old_56_60 = df.query('Age>=56 and Age<=60').shape[0]\n",
    "\n",
    "\n",
    "old_61_65 = df.query('Age>=61 and Age<=65').shape[0]\n",
    "death_rate = (old_56_60 - old_61_65)/old_56_60 * 1000\n",
    "print(\"Death rate for older age group:\", death_rate)"
   ]
  },
  {
   "cell_type": "markdown",
   "metadata": {},
   "source": [
    "Death rate for all age groups"
   ]
  },
  {
   "cell_type": "code",
   "execution_count": 98,
   "metadata": {},
   "outputs": [
    {
     "name": "stdout",
     "output_type": "stream",
     "text": [
      "461 9092\n"
     ]
    }
   ],
   "source": [
    "total_deaths = 0\n",
    "total_population = 0\n",
    "\n",
    "age_bins = pd.cut(range(0, df.Age.max(), 5), range(0, df.Age.max(), 5))\n",
    "\n",
    "age_bins = [val for val in age_bins if val==val]\n",
    "for i, bin in enumerate(age_bins):\n",
    "    if i==0:\n",
    "        continue\n",
    "    bin_pop = age_bins[i-1]\n",
    "    pop = df.query('Age>=%s and Age<=%s' %(bin_pop.left, bin_pop.right-1)).shape[0]\n",
    "    total_population += pop\n",
    "\n",
    "    bin_death = bin\n",
    "    deaths = df.query('Age>=%s and Age<=%s' %(bin_death.left, bin_death.right-1)).shape[0]\n",
    "    total_deaths += pop - deaths\n",
    "    \n",
    "print(total_deaths, total_population)"
   ]
  },
  {
   "cell_type": "code",
   "execution_count": 99,
   "metadata": {},
   "outputs": [
    {
     "name": "stdout",
     "output_type": "stream",
     "text": [
      "5070\n"
     ]
    }
   ],
   "source": [
    "death_rate = round(total_deaths/total_population * 100000)\n",
    "print(death_rate)"
   ]
  },
  {
   "cell_type": "markdown",
   "metadata": {},
   "source": [
    "### Dependency ratio\n",
    " Dependency ratio is – \n",
    "(the number of people aged between 0 and 15 + the number of people aged 65 and above) \n",
    "divide by the total population between 15 and 64, times by 100"
   ]
  },
  {
   "cell_type": "code",
   "execution_count": 100,
   "metadata": {},
   "outputs": [],
   "source": [
    "bins = list(range(0,110, 5))\n",
    "df[\"age_cat\"] = pd.cut(df.Age, bins=bins, \n",
    "                      labels=[\"0-5\",\"5-10\",\"10-15\",\"15-20\",\"20-25\",\"25-30\",\"30-35\",\n",
    "                              \"35-40\",\"40-45\",\"45-50\",\"50-55\",\"55-60\",\"60-65\",\"65-70\",\"70-75\",\n",
    "                             \"75-80\",\"80-85\",\"85-90\",\"90-95\",\"95-100\",\"100-105\"])"
   ]
  },
  {
   "cell_type": "code",
   "execution_count": 101,
   "metadata": {},
   "outputs": [
    {
     "data": {
      "text/html": [
       "<div>\n",
       "<style scoped>\n",
       "    .dataframe tbody tr th:only-of-type {\n",
       "        vertical-align: middle;\n",
       "    }\n",
       "\n",
       "    .dataframe tbody tr th {\n",
       "        vertical-align: top;\n",
       "    }\n",
       "\n",
       "    .dataframe thead th {\n",
       "        text-align: right;\n",
       "    }\n",
       "</style>\n",
       "<table border=\"1\" class=\"dataframe\">\n",
       "  <thead>\n",
       "    <tr style=\"text-align: right;\">\n",
       "      <th></th>\n",
       "      <th>House Number</th>\n",
       "      <th>Street</th>\n",
       "      <th>First Name</th>\n",
       "      <th>Surname</th>\n",
       "      <th>Age</th>\n",
       "      <th>Relationship to Head of House</th>\n",
       "      <th>Marital Status</th>\n",
       "      <th>Gender</th>\n",
       "      <th>Occupation</th>\n",
       "      <th>Infirmity</th>\n",
       "      <th>Religion</th>\n",
       "      <th>age_cat</th>\n",
       "    </tr>\n",
       "  </thead>\n",
       "  <tbody>\n",
       "    <tr>\n",
       "      <th>0</th>\n",
       "      <td>1</td>\n",
       "      <td>Prince Lane</td>\n",
       "      <td>Joel</td>\n",
       "      <td>Thompson</td>\n",
       "      <td>38</td>\n",
       "      <td>Head</td>\n",
       "      <td>Divorced</td>\n",
       "      <td>Male</td>\n",
       "      <td>Commuters</td>\n",
       "      <td>Healthy</td>\n",
       "      <td>Christian</td>\n",
       "      <td>35-40</td>\n",
       "    </tr>\n",
       "    <tr>\n",
       "      <th>1</th>\n",
       "      <td>1</td>\n",
       "      <td>Prince Lane</td>\n",
       "      <td>Alexandra</td>\n",
       "      <td>Smith</td>\n",
       "      <td>3</td>\n",
       "      <td>Niece</td>\n",
       "      <td>Single</td>\n",
       "      <td>Female</td>\n",
       "      <td>Child</td>\n",
       "      <td>Healthy</td>\n",
       "      <td>Undecided</td>\n",
       "      <td>0-5</td>\n",
       "    </tr>\n",
       "    <tr>\n",
       "      <th>2</th>\n",
       "      <td>2</td>\n",
       "      <td>Prince Lane</td>\n",
       "      <td>Rachel</td>\n",
       "      <td>Jenkins</td>\n",
       "      <td>40</td>\n",
       "      <td>Head</td>\n",
       "      <td>Single</td>\n",
       "      <td>Female</td>\n",
       "      <td>Commuters</td>\n",
       "      <td>Healthy</td>\n",
       "      <td>Catholic</td>\n",
       "      <td>35-40</td>\n",
       "    </tr>\n",
       "  </tbody>\n",
       "</table>\n",
       "</div>"
      ],
      "text/plain": [
       "   House Number       Street First Name   Surname  Age  \\\n",
       "0             1  Prince Lane       Joel  Thompson   38   \n",
       "1             1  Prince Lane  Alexandra     Smith    3   \n",
       "2             2  Prince Lane     Rachel   Jenkins   40   \n",
       "\n",
       "  Relationship to Head of House Marital Status  Gender Occupation Infirmity  \\\n",
       "0                          Head       Divorced    Male  Commuters   Healthy   \n",
       "1                         Niece         Single  Female      Child   Healthy   \n",
       "2                          Head         Single  Female  Commuters   Healthy   \n",
       "\n",
       "    Religion age_cat  \n",
       "0  Christian   35-40  \n",
       "1  Undecided     0-5  \n",
       "2   Catholic   35-40  "
      ]
     },
     "execution_count": 101,
     "metadata": {},
     "output_type": "execute_result"
    }
   ],
   "source": [
    "df.head(3)"
   ]
  },
  {
   "cell_type": "code",
   "execution_count": 102,
   "metadata": {},
   "outputs": [],
   "source": [
    "male_grp = df[df[\"Gender\"] == \"Male\"]\n",
    "female_grp = df[df[\"Gender\"] == \"Female\"]"
   ]
  },
  {
   "cell_type": "code",
   "execution_count": 103,
   "metadata": {},
   "outputs": [],
   "source": [
    "no_females_age = female_grp.groupby(\"age_cat\")[\"Age\"].count()\n",
    "no_males_age = male_grp.groupby(\"age_cat\")[\"Age\"].count()"
   ]
  },
  {
   "cell_type": "code",
   "execution_count": 104,
   "metadata": {},
   "outputs": [
    {
     "data": {
      "text/plain": [
       "age_cat\n",
       "0-5        298\n",
       "5-10       271\n",
       "10-15      343\n",
       "15-20      374\n",
       "20-25      364\n",
       "25-30      357\n",
       "30-35      393\n",
       "35-40      421\n",
       "40-45      395\n",
       "45-50      337\n",
       "50-55      298\n",
       "55-60      265\n",
       "60-65      196\n",
       "65-70      155\n",
       "70-75      119\n",
       "75-80      104\n",
       "80-85       69\n",
       "85-90       25\n",
       "90-95        5\n",
       "95-100       2\n",
       "100-105      8\n",
       "Name: Age, dtype: int64"
      ]
     },
     "execution_count": 104,
     "metadata": {},
     "output_type": "execute_result"
    }
   ],
   "source": [
    "(pd.Series(no_females_age, index=None))"
   ]
  },
  {
   "cell_type": "code",
   "execution_count": 105,
   "metadata": {},
   "outputs": [],
   "source": [
    "c_Age = [0-5,5-10,10-15,15-20,20-25,25-30,30-35,35-40,40-45,45-50,50-55,55-60,60-65,65-70,70-75,75-80,80-85,85-90,90-95,95-100,100-105 ]\n",
    "\n",
    "no_Female = [256,268,339,371,362,359,393,421,395,337,298,265,196,155,118,103,69,25,5,2,8]"
   ]
  },
  {
   "cell_type": "code",
   "execution_count": 106,
   "metadata": {},
   "outputs": [
    {
     "data": {
      "text/plain": [
       "age_cat\n",
       "0-5        587\n",
       "5-10       582\n",
       "10-15      663\n",
       "15-20      750\n",
       "20-25      676\n",
       "25-30      644\n",
       "30-35      717\n",
       "35-40      749\n",
       "40-45      723\n",
       "45-50      633\n",
       "50-55      558\n",
       "55-60      485\n",
       "60-65      391\n",
       "65-70      300\n",
       "70-75      229\n",
       "75-80      194\n",
       "80-85      134\n",
       "85-90       52\n",
       "90-95       10\n",
       "95-100       7\n",
       "100-105     11\n",
       "Name: Age, dtype: int64"
      ]
     },
     "execution_count": 106,
     "metadata": {},
     "output_type": "execute_result"
    }
   ],
   "source": [
    "df.groupby('age_cat')[\"Age\"].count()"
   ]
  },
  {
   "cell_type": "code",
   "execution_count": 107,
   "metadata": {},
   "outputs": [
    {
     "name": "stdout",
     "output_type": "stream",
     "text": [
      "Total number of Youth dependents: 1736\n",
      "Total number of Elderly dependents: 935\n"
     ]
    }
   ],
   "source": [
    "# youth_dep = age category 0 - 15\n",
    "youth_dep = 498 + 579 + 659\n",
    "\n",
    "# elderly dependents above 65\n",
    "elderly_dep = 300+228+193+134+52+10+7+11\n",
    "\n",
    "print(f\"Total number of Youth dependents: {youth_dep}\")\n",
    "print(f\"Total number of Elderly dependents: {elderly_dep}\")"
   ]
  },
  {
   "cell_type": "code",
   "execution_count": 108,
   "metadata": {},
   "outputs": [],
   "source": [
    "# Total population between 15 and 64\n",
    "dependent_pop = youth_dep + elderly_dep\n",
    "independent_pop = df.shape[0] - (dependent_pop)"
   ]
  },
  {
   "cell_type": "code",
   "execution_count": 109,
   "metadata": {},
   "outputs": [
    {
     "data": {
      "text/plain": [
       "6426"
      ]
     },
     "execution_count": 109,
     "metadata": {},
     "output_type": "execute_result"
    }
   ],
   "source": [
    "independent_pop"
   ]
  },
  {
   "cell_type": "code",
   "execution_count": 110,
   "metadata": {},
   "outputs": [
    {
     "name": "stdout",
     "output_type": "stream",
     "text": [
      "42.0 %\n"
     ]
    }
   ],
   "source": [
    "# dependency ratio \n",
    "dependency_ratio = (dependent_pop / independent_pop)\n",
    "dependency_ratio_percent = np.ceil((dependent_pop / independent_pop) * 100)\n",
    "print(dependency_ratio_percent,'%')"
   ]
  },
  {
   "cell_type": "code",
   "execution_count": 111,
   "metadata": {},
   "outputs": [
    {
     "data": {
      "text/plain": [
       "<AxesSubplot:>"
      ]
     },
     "execution_count": 111,
     "metadata": {},
     "output_type": "execute_result"
    },
    {
     "data": {
      "image/png": "[encoded data removed]",
      "text/plain": [
       "<Figure size 432x288 with 1 Axes>"
      ]
     },
     "metadata": {},
     "output_type": "display_data"
    }
   ],
   "source": [
    "# dependency ratio chart \n",
    "pd.DataFrame({'item': ['total pop','independent pop', 'dependent pop'],\n",
    "             'value': [df.shape[0], independent_pop, dependent_pop]},\n",
    "             index=['total pop','independent pop', 'dependent pop']).plot(kind='barh', color='navy')"
   ]
  },
  {
   "cell_type": "code",
   "execution_count": 112,
   "metadata": {},
   "outputs": [
    {
     "data": {
      "image/png": "[encoded data removed]",
      "text/plain": [
       "<Figure size 432x288 with 1 Axes>"
      ]
     },
     "metadata": {},
     "output_type": "display_data"
    }
   ],
   "source": [
    "sns.boxplot(x=df.Age, y=df['Occupation'])\n",
    "plt.show()"
   ]
  },
  {
   "cell_type": "markdown",
   "metadata": {},
   "source": [
    "### Birth rate and death rate"
   ]
  },
  {
   "cell_type": "markdown",
   "metadata": {},
   "source": [
    "Birth rate"
   ]
  },
  {
   "cell_type": "code",
   "execution_count": 113,
   "metadata": {},
   "outputs": [],
   "source": [
    "age = df.Age"
   ]
  },
  {
   "cell_type": "code",
   "execution_count": 114,
   "metadata": {},
   "outputs": [
    {
     "data": {
      "text/plain": [
       "0       38\n",
       "1        3\n",
       "2       40\n",
       "3        9\n",
       "4       20\n",
       "        ..\n",
       "9092    70\n",
       "9093    33\n",
       "9094    33\n",
       "9095    30\n",
       "9096     5\n",
       "Name: Age, Length: 9097, dtype: int64"
      ]
     },
     "execution_count": 114,
     "metadata": {},
     "output_type": "execute_result"
    }
   ],
   "source": [
    "age"
   ]
  },
  {
   "cell_type": "code",
   "execution_count": 124,
   "metadata": {},
   "outputs": [
    {
     "data": {
      "text/plain": [
       "182"
      ]
     },
     "execution_count": 124,
     "metadata": {},
     "output_type": "execute_result"
    }
   ],
   "source": [
    "children_aged_1 = (df.Age == 1).sum()\n",
    "\n",
    "children_aged_1\n"
   ]
  },
  {
   "cell_type": "code",
   "execution_count": 125,
   "metadata": {},
   "outputs": [
    {
     "data": {
      "text/plain": [
       "362"
      ]
     },
     "execution_count": 125,
     "metadata": {},
     "output_type": "execute_result"
    }
   ],
   "source": [
    "childbearing_women = df.query('Age>=25 and Age<=29 and Gender == \"Female\"').shape[0]\n",
    "\n",
    "childbearing_women"
   ]
  },
  {
   "cell_type": "code",
   "execution_count": 126,
   "metadata": {},
   "outputs": [
    {
     "data": {
      "text/plain": [
       "50276.243093922654"
      ]
     },
     "execution_count": 126,
     "metadata": {},
     "output_type": "execute_result"
    }
   ],
   "source": [
    "birth_rate = (children_aged_1 / childbearing_women) * 100000\n",
    "birth_rate"
   ]
  },
  {
   "cell_type": "code",
   "execution_count": 127,
   "metadata": {},
   "outputs": [
    {
     "data": {
      "text/plain": [
       "182"
      ]
     },
     "execution_count": 127,
     "metadata": {},
     "output_type": "execute_result"
    }
   ],
   "source": [
    "children_aged_0 = (df.Age == 1).sum()\n",
    "\n",
    "children_aged_0"
   ]
  },
  {
   "cell_type": "code",
   "execution_count": 128,
   "metadata": {},
   "outputs": [
    {
     "data": {
      "text/plain": [
       "50276.243093922654"
      ]
     },
     "execution_count": 128,
     "metadata": {},
     "output_type": "execute_result"
    }
   ],
   "source": [
    "birth_rate = (children_aged_0 / childbearing_women) * 100000\n",
    "birth_rate"
   ]
  },
  {
   "cell_type": "code",
   "execution_count": 129,
   "metadata": {},
   "outputs": [
    {
     "name": "stdout",
     "output_type": "stream",
     "text": [
      "Birth rate: 28051.94805194805\n"
     ]
    }
   ],
   "source": [
    "children_aged_0 = (age==4).sum()\n",
    "\n",
    "child_bearing_women = df.query('Age>=30 and Age<=34 and `Gender`==\"Female\"').shape[0]\n",
    "\n",
    "birth_rate = children_aged_0 / child_bearing_women * 100000\n",
    "print(\"Birth rate:\", birth_rate)"
   ]
  },
  {
   "cell_type": "markdown",
   "metadata": {},
   "source": [
    "Death rate"
   ]
  },
  {
   "cell_type": "code",
   "execution_count": 120,
   "metadata": {},
   "outputs": [
    {
     "name": "stdout",
     "output_type": "stream",
     "text": [
      "Death rate for older age group: 193.81443298969072\n"
     ]
    }
   ],
   "source": [
    "old_56_60 = df.query('Age>=56 and Age<=60').shape[0]\n",
    "\n",
    "\n",
    "old_61_65 = df.query('Age>=61 and Age<=65').shape[0]\n",
    "death_rate = (old_56_60 - old_61_65)/old_56_60 * 1000\n",
    "print(\"Death rate for older age group:\", death_rate)"
   ]
  },
  {
   "cell_type": "markdown",
   "metadata": {},
   "source": [
    "death rate"
   ]
  },
  {
   "cell_type": "markdown",
   "metadata": {},
   "source": [
    "Death rate for all age groups"
   ]
  },
  {
   "cell_type": "code",
   "execution_count": 121,
   "metadata": {},
   "outputs": [
    {
     "name": "stdout",
     "output_type": "stream",
     "text": [
      "461 9092\n"
     ]
    }
   ],
   "source": [
    "total_deaths = 0\n",
    "total_population = 0\n",
    "\n",
    "age_bins = pd.cut(range(0, df.Age.max(), 5), range(0, df.Age.max(), 5))\n",
    "\n",
    "age_bins = [val for val in age_bins if val==val]\n",
    "for i, bin in enumerate(age_bins):\n",
    "    if i==0:\n",
    "        continue\n",
    "    bin_pop = age_bins[i-1]\n",
    "    pop = df.query('Age>=%s and Age<=%s' %(bin_pop.left, bin_pop.right-1)).shape[0]\n",
    "    total_population += pop\n",
    "\n",
    "    bin_death = bin\n",
    "    deaths = df.query('Age>=%s and Age<=%s' %(bin_death.left, bin_death.right-1)).shape[0]\n",
    "    total_deaths += pop - deaths\n",
    "    \n",
    "print(total_deaths, total_population)"
   ]
  },
  {
   "cell_type": "code",
   "execution_count": 122,
   "metadata": {},
   "outputs": [
    {
     "name": "stdout",
     "output_type": "stream",
     "text": [
      "5070\n"
     ]
    }
   ],
   "source": [
    "death_rate = round(total_deaths/total_population * 100000)\n",
    "print(death_rate)"
   ]
  },
  {
   "cell_type": "code",
   "execution_count": null,
   "metadata": {},
   "outputs": [],
   "source": []
  }
 ],
 "metadata": {
  "kernelspec": {
   "display_name": "Python 3",
   "language": "python",
   "name": "python3"
  },
  "language_info": {
   "codemirror_mode": {
    "name": "ipython",
    "version": 3
   },
   "file_extension": ".py",
   "mimetype": "text/x-python",
   "name": "python",
   "nbconvert_exporter": "python",
   "pygments_lexer": "ipython3",
   "version": "3.9.5"
  }
 },
 "nbformat": 4,
 "nbformat_minor": 4
}
